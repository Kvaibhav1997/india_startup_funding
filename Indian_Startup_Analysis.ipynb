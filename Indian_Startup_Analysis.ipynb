{
  "nbformat": 4,
  "nbformat_minor": 0,
  "metadata": {
    "colab": {
      "name": "Indian_Startup_Analysis.ipynb",
      "provenance": [],
      "collapsed_sections": [
        "Ihe4vM_vlr0W"
      ]
    },
    "kernelspec": {
      "name": "python3",
      "display_name": "Python 3"
    },
    "language_info": {
      "name": "python"
    }
  },
  "cells": [
    {
      "cell_type": "code",
      "metadata": {
        "id": "EJxFRKJfXO6U"
      },
      "source": [
        "import numpy as np\n",
        "import pandas as pd\n",
        "import matplotlib.pyplot as plt\n",
        "import seaborn as sns\n",
        "import re\n",
        "%matplotlib inline"
      ],
      "execution_count": 1,
      "outputs": []
    },
    {
      "cell_type": "markdown",
      "metadata": {
        "id": "-AZZ87oZXrXe"
      },
      "source": [
        "Importing dataset present in dataset folder"
      ]
    },
    {
      "cell_type": "code",
      "metadata": {
        "colab": {
          "base_uri": "https://localhost:8080/"
        },
        "id": "gx3_jLLZzj60",
        "outputId": "05b8779c-d76f-4944-f8c0-9b834c36d1b2"
      },
      "source": [
        "from google.colab import drive\n",
        "drive.mount('/content/drive')"
      ],
      "execution_count": 2,
      "outputs": [
        {
          "output_type": "stream",
          "name": "stdout",
          "text": [
            "Mounted at /content/drive\n"
          ]
        }
      ]
    },
    {
      "cell_type": "code",
      "metadata": {
        "id": "n17QTeXlXsrf"
      },
      "source": [
        "data=pd.read_csv('/content/drive/MyDrive/My Colab Dataset/startup_funding.csv')"
      ],
      "execution_count": 3,
      "outputs": []
    },
    {
      "cell_type": "markdown",
      "metadata": {
        "id": "nePgUTxhYFF_"
      },
      "source": [
        "High level overview of the data we are dealing with"
      ]
    },
    {
      "cell_type": "code",
      "metadata": {
        "colab": {
          "base_uri": "https://localhost:8080/",
          "height": 304
        },
        "id": "rOkvM_s3YF9_",
        "outputId": "40f2f7ad-c3b4-4f86-8463-9aa4f72df87e"
      },
      "source": [
        "data.head()"
      ],
      "execution_count": 4,
      "outputs": [
        {
          "output_type": "execute_result",
          "data": {
            "text/html": [
              "<div>\n",
              "<style scoped>\n",
              "    .dataframe tbody tr th:only-of-type {\n",
              "        vertical-align: middle;\n",
              "    }\n",
              "\n",
              "    .dataframe tbody tr th {\n",
              "        vertical-align: top;\n",
              "    }\n",
              "\n",
              "    .dataframe thead th {\n",
              "        text-align: right;\n",
              "    }\n",
              "</style>\n",
              "<table border=\"1\" class=\"dataframe\">\n",
              "  <thead>\n",
              "    <tr style=\"text-align: right;\">\n",
              "      <th></th>\n",
              "      <th>SNo</th>\n",
              "      <th>Date</th>\n",
              "      <th>StartupName</th>\n",
              "      <th>IndustryVertical</th>\n",
              "      <th>SubVertical</th>\n",
              "      <th>CityLocation</th>\n",
              "      <th>InvestorsName</th>\n",
              "      <th>InvestmentType</th>\n",
              "      <th>AmountInUSD</th>\n",
              "      <th>Remarks</th>\n",
              "    </tr>\n",
              "  </thead>\n",
              "  <tbody>\n",
              "    <tr>\n",
              "      <th>0</th>\n",
              "      <td>0</td>\n",
              "      <td>01/08/2017</td>\n",
              "      <td>TouchKin</td>\n",
              "      <td>Technology</td>\n",
              "      <td>Predictive Care Platform</td>\n",
              "      <td>Bangalore</td>\n",
              "      <td>Kae Capital</td>\n",
              "      <td>Private Equity</td>\n",
              "      <td>1,300,000</td>\n",
              "      <td>NaN</td>\n",
              "    </tr>\n",
              "    <tr>\n",
              "      <th>1</th>\n",
              "      <td>1</td>\n",
              "      <td>02/08/2017</td>\n",
              "      <td>Ethinos</td>\n",
              "      <td>Technology</td>\n",
              "      <td>Digital Marketing Agency</td>\n",
              "      <td>Mumbai</td>\n",
              "      <td>Triton Investment Advisors</td>\n",
              "      <td>Private Equity</td>\n",
              "      <td>NaN</td>\n",
              "      <td>NaN</td>\n",
              "    </tr>\n",
              "    <tr>\n",
              "      <th>2</th>\n",
              "      <td>2</td>\n",
              "      <td>02/08/2017</td>\n",
              "      <td>Leverage Edu</td>\n",
              "      <td>Consumer Internet</td>\n",
              "      <td>Online platform for Higher Education Services</td>\n",
              "      <td>New Delhi</td>\n",
              "      <td>Kashyap Deorah, Anand Sankeshwar, Deepak Jain,...</td>\n",
              "      <td>Seed Funding</td>\n",
              "      <td>NaN</td>\n",
              "      <td>NaN</td>\n",
              "    </tr>\n",
              "    <tr>\n",
              "      <th>3</th>\n",
              "      <td>3</td>\n",
              "      <td>02/08/2017</td>\n",
              "      <td>Zepo</td>\n",
              "      <td>Consumer Internet</td>\n",
              "      <td>DIY Ecommerce platform</td>\n",
              "      <td>Mumbai</td>\n",
              "      <td>Kunal Shah, LetsVenture, Anupam Mittal, Hetal ...</td>\n",
              "      <td>Seed Funding</td>\n",
              "      <td>500,000</td>\n",
              "      <td>NaN</td>\n",
              "    </tr>\n",
              "    <tr>\n",
              "      <th>4</th>\n",
              "      <td>4</td>\n",
              "      <td>02/08/2017</td>\n",
              "      <td>Click2Clinic</td>\n",
              "      <td>Consumer Internet</td>\n",
              "      <td>healthcare service aggregator</td>\n",
              "      <td>Hyderabad</td>\n",
              "      <td>Narottam Thudi, Shireesh Palle</td>\n",
              "      <td>Seed Funding</td>\n",
              "      <td>850,000</td>\n",
              "      <td>NaN</td>\n",
              "    </tr>\n",
              "  </tbody>\n",
              "</table>\n",
              "</div>"
            ],
            "text/plain": [
              "   SNo        Date   StartupName  ...  InvestmentType AmountInUSD Remarks\n",
              "0    0  01/08/2017      TouchKin  ...  Private Equity   1,300,000     NaN\n",
              "1    1  02/08/2017       Ethinos  ...  Private Equity         NaN     NaN\n",
              "2    2  02/08/2017  Leverage Edu  ...    Seed Funding         NaN     NaN\n",
              "3    3  02/08/2017          Zepo  ...    Seed Funding     500,000     NaN\n",
              "4    4  02/08/2017  Click2Clinic  ...    Seed Funding     850,000     NaN\n",
              "\n",
              "[5 rows x 10 columns]"
            ]
          },
          "metadata": {},
          "execution_count": 4
        }
      ]
    },
    {
      "cell_type": "code",
      "metadata": {
        "colab": {
          "base_uri": "https://localhost:8080/",
          "height": 304
        },
        "id": "FX6ferSEYLQc",
        "outputId": "d465447d-9f2e-4bb7-f50f-eab69c1cdb98"
      },
      "source": [
        "data.tail()"
      ],
      "execution_count": 5,
      "outputs": [
        {
          "output_type": "execute_result",
          "data": {
            "text/html": [
              "<div>\n",
              "<style scoped>\n",
              "    .dataframe tbody tr th:only-of-type {\n",
              "        vertical-align: middle;\n",
              "    }\n",
              "\n",
              "    .dataframe tbody tr th {\n",
              "        vertical-align: top;\n",
              "    }\n",
              "\n",
              "    .dataframe thead th {\n",
              "        text-align: right;\n",
              "    }\n",
              "</style>\n",
              "<table border=\"1\" class=\"dataframe\">\n",
              "  <thead>\n",
              "    <tr style=\"text-align: right;\">\n",
              "      <th></th>\n",
              "      <th>SNo</th>\n",
              "      <th>Date</th>\n",
              "      <th>StartupName</th>\n",
              "      <th>IndustryVertical</th>\n",
              "      <th>SubVertical</th>\n",
              "      <th>CityLocation</th>\n",
              "      <th>InvestorsName</th>\n",
              "      <th>InvestmentType</th>\n",
              "      <th>AmountInUSD</th>\n",
              "      <th>Remarks</th>\n",
              "    </tr>\n",
              "  </thead>\n",
              "  <tbody>\n",
              "    <tr>\n",
              "      <th>2367</th>\n",
              "      <td>2367</td>\n",
              "      <td>29/01/2015</td>\n",
              "      <td>Printvenue</td>\n",
              "      <td>NaN</td>\n",
              "      <td>NaN</td>\n",
              "      <td>NaN</td>\n",
              "      <td>Asia Pacific Internet Group</td>\n",
              "      <td>Private Equity</td>\n",
              "      <td>4,500,000</td>\n",
              "      <td>NaN</td>\n",
              "    </tr>\n",
              "    <tr>\n",
              "      <th>2368</th>\n",
              "      <td>2368</td>\n",
              "      <td>29/01/2015</td>\n",
              "      <td>Graphene</td>\n",
              "      <td>NaN</td>\n",
              "      <td>NaN</td>\n",
              "      <td>NaN</td>\n",
              "      <td>KARSEMVEN Fund</td>\n",
              "      <td>Private Equity</td>\n",
              "      <td>825,000</td>\n",
              "      <td>Govt backed VC Fund</td>\n",
              "    </tr>\n",
              "    <tr>\n",
              "      <th>2369</th>\n",
              "      <td>2369</td>\n",
              "      <td>30/01/2015</td>\n",
              "      <td>Mad Street Den</td>\n",
              "      <td>NaN</td>\n",
              "      <td>NaN</td>\n",
              "      <td>NaN</td>\n",
              "      <td>Exfinity Fund, GrowX Ventures.</td>\n",
              "      <td>Private Equity</td>\n",
              "      <td>1,500,000</td>\n",
              "      <td>NaN</td>\n",
              "    </tr>\n",
              "    <tr>\n",
              "      <th>2370</th>\n",
              "      <td>2370</td>\n",
              "      <td>30/01/2015</td>\n",
              "      <td>Simplotel</td>\n",
              "      <td>NaN</td>\n",
              "      <td>NaN</td>\n",
              "      <td>NaN</td>\n",
              "      <td>MakeMyTrip</td>\n",
              "      <td>Private Equity</td>\n",
              "      <td>NaN</td>\n",
              "      <td>Strategic Funding, Minority stake</td>\n",
              "    </tr>\n",
              "    <tr>\n",
              "      <th>2371</th>\n",
              "      <td>2371</td>\n",
              "      <td>31/01/2015</td>\n",
              "      <td>couponmachine.in</td>\n",
              "      <td>NaN</td>\n",
              "      <td>NaN</td>\n",
              "      <td>NaN</td>\n",
              "      <td>UK based Group of Angel Investors</td>\n",
              "      <td>Seed Funding</td>\n",
              "      <td>140,000</td>\n",
              "      <td>NaN</td>\n",
              "    </tr>\n",
              "  </tbody>\n",
              "</table>\n",
              "</div>"
            ],
            "text/plain": [
              "       SNo        Date  ... AmountInUSD                            Remarks\n",
              "2367  2367  29/01/2015  ...   4,500,000                                NaN\n",
              "2368  2368  29/01/2015  ...     825,000                Govt backed VC Fund\n",
              "2369  2369  30/01/2015  ...   1,500,000                                NaN\n",
              "2370  2370  30/01/2015  ...         NaN  Strategic Funding, Minority stake\n",
              "2371  2371  31/01/2015  ...     140,000                                NaN\n",
              "\n",
              "[5 rows x 10 columns]"
            ]
          },
          "metadata": {},
          "execution_count": 5
        }
      ]
    },
    {
      "cell_type": "code",
      "metadata": {
        "colab": {
          "base_uri": "https://localhost:8080/"
        },
        "id": "tpii5dH9YOay",
        "outputId": "29034e94-c14c-422f-8ae5-4aab3a72d333"
      },
      "source": [
        "print('data contains',data.shape[0],'rows and',data.shape[1],'columns',sep=' ')"
      ],
      "execution_count": 6,
      "outputs": [
        {
          "output_type": "stream",
          "name": "stdout",
          "text": [
            "data contains 2372 rows and 10 columns\n"
          ]
        }
      ]
    },
    {
      "cell_type": "markdown",
      "metadata": {
        "id": "gGSZHj7wYV8P"
      },
      "source": [
        "**Lets see the columns (features) we have available.**"
      ]
    },
    {
      "cell_type": "code",
      "metadata": {
        "colab": {
          "base_uri": "https://localhost:8080/"
        },
        "id": "xrwyQdAtYYSl",
        "outputId": "b07352da-744b-4798-92d7-16bee54c737f"
      },
      "source": [
        "print(data.info())"
      ],
      "execution_count": 7,
      "outputs": [
        {
          "output_type": "stream",
          "name": "stdout",
          "text": [
            "<class 'pandas.core.frame.DataFrame'>\n",
            "RangeIndex: 2372 entries, 0 to 2371\n",
            "Data columns (total 10 columns):\n",
            " #   Column            Non-Null Count  Dtype \n",
            "---  ------            --------------  ----- \n",
            " 0   SNo               2372 non-null   int64 \n",
            " 1   Date              2372 non-null   object\n",
            " 2   StartupName       2372 non-null   object\n",
            " 3   IndustryVertical  2201 non-null   object\n",
            " 4   SubVertical       1436 non-null   object\n",
            " 5   CityLocation      2193 non-null   object\n",
            " 6   InvestorsName     2364 non-null   object\n",
            " 7   InvestmentType    2371 non-null   object\n",
            " 8   AmountInUSD       1525 non-null   object\n",
            " 9   Remarks           419 non-null    object\n",
            "dtypes: int64(1), object(9)\n",
            "memory usage: 185.4+ KB\n",
            "None\n"
          ]
        }
      ]
    },
    {
      "cell_type": "code",
      "metadata": {
        "colab": {
          "base_uri": "https://localhost:8080/",
          "height": 388
        },
        "id": "7auVGURNY8hI",
        "outputId": "7f24a05a-f7e2-48f2-c60f-09325e1702cf"
      },
      "source": [
        "null_values=pd.isnull(data).sum()\n",
        "columns=null_values.index\n",
        "frequency=null_values.values\n",
        "percentage=(frequency/data.shape[0])*100\n",
        "missing_values=pd.DataFrame({'Columns':columns,'Missing Data':frequency,'Percentage':percentage}).sort_values('Percentage',ascending=False).set_index('Columns')\n",
        "missing_values"
      ],
      "execution_count": 8,
      "outputs": [
        {
          "output_type": "execute_result",
          "data": {
            "text/html": [
              "<div>\n",
              "<style scoped>\n",
              "    .dataframe tbody tr th:only-of-type {\n",
              "        vertical-align: middle;\n",
              "    }\n",
              "\n",
              "    .dataframe tbody tr th {\n",
              "        vertical-align: top;\n",
              "    }\n",
              "\n",
              "    .dataframe thead th {\n",
              "        text-align: right;\n",
              "    }\n",
              "</style>\n",
              "<table border=\"1\" class=\"dataframe\">\n",
              "  <thead>\n",
              "    <tr style=\"text-align: right;\">\n",
              "      <th></th>\n",
              "      <th>Missing Data</th>\n",
              "      <th>Percentage</th>\n",
              "    </tr>\n",
              "    <tr>\n",
              "      <th>Columns</th>\n",
              "      <th></th>\n",
              "      <th></th>\n",
              "    </tr>\n",
              "  </thead>\n",
              "  <tbody>\n",
              "    <tr>\n",
              "      <th>Remarks</th>\n",
              "      <td>1953</td>\n",
              "      <td>82.335582</td>\n",
              "    </tr>\n",
              "    <tr>\n",
              "      <th>SubVertical</th>\n",
              "      <td>936</td>\n",
              "      <td>39.460371</td>\n",
              "    </tr>\n",
              "    <tr>\n",
              "      <th>AmountInUSD</th>\n",
              "      <td>847</td>\n",
              "      <td>35.708263</td>\n",
              "    </tr>\n",
              "    <tr>\n",
              "      <th>CityLocation</th>\n",
              "      <td>179</td>\n",
              "      <td>7.546374</td>\n",
              "    </tr>\n",
              "    <tr>\n",
              "      <th>IndustryVertical</th>\n",
              "      <td>171</td>\n",
              "      <td>7.209106</td>\n",
              "    </tr>\n",
              "    <tr>\n",
              "      <th>InvestorsName</th>\n",
              "      <td>8</td>\n",
              "      <td>0.337268</td>\n",
              "    </tr>\n",
              "    <tr>\n",
              "      <th>InvestmentType</th>\n",
              "      <td>1</td>\n",
              "      <td>0.042159</td>\n",
              "    </tr>\n",
              "    <tr>\n",
              "      <th>SNo</th>\n",
              "      <td>0</td>\n",
              "      <td>0.000000</td>\n",
              "    </tr>\n",
              "    <tr>\n",
              "      <th>Date</th>\n",
              "      <td>0</td>\n",
              "      <td>0.000000</td>\n",
              "    </tr>\n",
              "    <tr>\n",
              "      <th>StartupName</th>\n",
              "      <td>0</td>\n",
              "      <td>0.000000</td>\n",
              "    </tr>\n",
              "  </tbody>\n",
              "</table>\n",
              "</div>"
            ],
            "text/plain": [
              "                  Missing Data  Percentage\n",
              "Columns                                   \n",
              "Remarks                   1953   82.335582\n",
              "SubVertical                936   39.460371\n",
              "AmountInUSD                847   35.708263\n",
              "CityLocation               179    7.546374\n",
              "IndustryVertical           171    7.209106\n",
              "InvestorsName                8    0.337268\n",
              "InvestmentType               1    0.042159\n",
              "SNo                          0    0.000000\n",
              "Date                         0    0.000000\n",
              "StartupName                  0    0.000000"
            ]
          },
          "metadata": {},
          "execution_count": 8
        }
      ]
    },
    {
      "cell_type": "code",
      "metadata": {
        "id": "Xm5F4PNfZElY"
      },
      "source": [
        "data.drop(columns=['Remarks'],inplace=True)\n",
        "data.drop(columns=['SNo'],inplace=True)"
      ],
      "execution_count": 9,
      "outputs": []
    },
    {
      "cell_type": "code",
      "metadata": {
        "colab": {
          "base_uri": "https://localhost:8080/",
          "height": 326
        },
        "id": "IYH_MaaNZJv-",
        "outputId": "32a6e66a-8b12-4646-aa4e-b41dd90a7a48"
      },
      "source": [
        "null_values=pd.isnull(data).sum()\n",
        "columns=null_values.index\n",
        "frequency=null_values.values\n",
        "percentage=(frequency/data.shape[0])*100\n",
        "missing_values=pd.DataFrame({'Columns':columns,'Missing Data':frequency,'Percentage':percentage}).sort_values('Percentage',ascending=False).set_index('Columns')\n",
        "missing_values"
      ],
      "execution_count": 10,
      "outputs": [
        {
          "output_type": "execute_result",
          "data": {
            "text/html": [
              "<div>\n",
              "<style scoped>\n",
              "    .dataframe tbody tr th:only-of-type {\n",
              "        vertical-align: middle;\n",
              "    }\n",
              "\n",
              "    .dataframe tbody tr th {\n",
              "        vertical-align: top;\n",
              "    }\n",
              "\n",
              "    .dataframe thead th {\n",
              "        text-align: right;\n",
              "    }\n",
              "</style>\n",
              "<table border=\"1\" class=\"dataframe\">\n",
              "  <thead>\n",
              "    <tr style=\"text-align: right;\">\n",
              "      <th></th>\n",
              "      <th>Missing Data</th>\n",
              "      <th>Percentage</th>\n",
              "    </tr>\n",
              "    <tr>\n",
              "      <th>Columns</th>\n",
              "      <th></th>\n",
              "      <th></th>\n",
              "    </tr>\n",
              "  </thead>\n",
              "  <tbody>\n",
              "    <tr>\n",
              "      <th>SubVertical</th>\n",
              "      <td>936</td>\n",
              "      <td>39.460371</td>\n",
              "    </tr>\n",
              "    <tr>\n",
              "      <th>AmountInUSD</th>\n",
              "      <td>847</td>\n",
              "      <td>35.708263</td>\n",
              "    </tr>\n",
              "    <tr>\n",
              "      <th>CityLocation</th>\n",
              "      <td>179</td>\n",
              "      <td>7.546374</td>\n",
              "    </tr>\n",
              "    <tr>\n",
              "      <th>IndustryVertical</th>\n",
              "      <td>171</td>\n",
              "      <td>7.209106</td>\n",
              "    </tr>\n",
              "    <tr>\n",
              "      <th>InvestorsName</th>\n",
              "      <td>8</td>\n",
              "      <td>0.337268</td>\n",
              "    </tr>\n",
              "    <tr>\n",
              "      <th>InvestmentType</th>\n",
              "      <td>1</td>\n",
              "      <td>0.042159</td>\n",
              "    </tr>\n",
              "    <tr>\n",
              "      <th>Date</th>\n",
              "      <td>0</td>\n",
              "      <td>0.000000</td>\n",
              "    </tr>\n",
              "    <tr>\n",
              "      <th>StartupName</th>\n",
              "      <td>0</td>\n",
              "      <td>0.000000</td>\n",
              "    </tr>\n",
              "  </tbody>\n",
              "</table>\n",
              "</div>"
            ],
            "text/plain": [
              "                  Missing Data  Percentage\n",
              "Columns                                   \n",
              "SubVertical                936   39.460371\n",
              "AmountInUSD                847   35.708263\n",
              "CityLocation               179    7.546374\n",
              "IndustryVertical           171    7.209106\n",
              "InvestorsName                8    0.337268\n",
              "InvestmentType               1    0.042159\n",
              "Date                         0    0.000000\n",
              "StartupName                  0    0.000000"
            ]
          },
          "metadata": {},
          "execution_count": 10
        }
      ]
    },
    {
      "cell_type": "markdown",
      "metadata": {
        "id": "F39TBanPZRyF"
      },
      "source": [
        "Now, lets go one by one and try to fill out missing values in each column."
      ]
    },
    {
      "cell_type": "markdown",
      "metadata": {
        "id": "9BtPPiZlZWi0"
      },
      "source": [
        "# **SubVertical**"
      ]
    },
    {
      "cell_type": "code",
      "metadata": {
        "colab": {
          "base_uri": "https://localhost:8080/"
        },
        "id": "rMu1ggRMZcP1",
        "outputId": "4820c8c2-a3f8-4ef1-d2aa-fec3716ce2a5"
      },
      "source": [
        "data['SubVertical'].describe()"
      ],
      "execution_count": 11,
      "outputs": [
        {
          "output_type": "execute_result",
          "data": {
            "text/plain": [
              "count                1436\n",
              "unique               1364\n",
              "top       Online Pharmacy\n",
              "freq                    9\n",
              "Name: SubVertical, dtype: object"
            ]
          },
          "metadata": {},
          "execution_count": 11
        }
      ]
    },
    {
      "cell_type": "code",
      "metadata": {
        "colab": {
          "base_uri": "https://localhost:8080/"
        },
        "id": "7LGSJWOIZgXJ",
        "outputId": "070bb6da-c812-43e2-941c-1c5546da6160"
      },
      "source": [
        "len(data['SubVertical'].unique())"
      ],
      "execution_count": 12,
      "outputs": [
        {
          "output_type": "execute_result",
          "data": {
            "text/plain": [
              "1365"
            ]
          },
          "metadata": {},
          "execution_count": 12
        }
      ]
    },
    {
      "cell_type": "markdown",
      "metadata": {
        "id": "a7M69PW-Zp8r"
      },
      "source": [
        "There are 1365 unique sub-categories and 936 unknown sub-categories\n",
        "\n",
        "We have two options from here, that is,\n",
        "1.   Fill up the missing values as 'Not specified' string\n",
        "2.   Do not fill up the missing values.\n",
        "\n",
        "For this analysis, we intend to not fill up the missing values for the SubVertical columns since later on, it might affect our analysis."
      ]
    },
    {
      "cell_type": "code",
      "metadata": {
        "id": "RXq8UikrZ78q"
      },
      "source": [
        "data['SubVertical'].fillna(value='Not Specified or Other',inplace=True)"
      ],
      "execution_count": 13,
      "outputs": []
    },
    {
      "cell_type": "markdown",
      "metadata": {
        "id": "TiwjJbDFaKY5"
      },
      "source": [
        "# **AmountInUSD**"
      ]
    },
    {
      "cell_type": "code",
      "metadata": {
        "colab": {
          "base_uri": "https://localhost:8080/"
        },
        "id": "umf5wxLDaQNp",
        "outputId": "03d67e02-18a1-476b-ce0c-cff1f96edc40"
      },
      "source": [
        "data['AmountInUSD'].head()"
      ],
      "execution_count": 14,
      "outputs": [
        {
          "output_type": "execute_result",
          "data": {
            "text/plain": [
              "0    1,300,000\n",
              "1          NaN\n",
              "2          NaN\n",
              "3      500,000\n",
              "4      850,000\n",
              "Name: AmountInUSD, dtype: object"
            ]
          },
          "metadata": {},
          "execution_count": 14
        }
      ]
    },
    {
      "cell_type": "markdown",
      "metadata": {
        "id": "io04guIdaU95"
      },
      "source": [
        "We see that the column is not in numeric format, so lets correct the format and then try to fill up the missing values"
      ]
    },
    {
      "cell_type": "code",
      "metadata": {
        "id": "P1YjntQTaZ3f"
      },
      "source": [
        "data['AmountInUSD']=data['AmountInUSD'].apply(lambda x: float(str(x).replace(',','')))"
      ],
      "execution_count": 15,
      "outputs": []
    },
    {
      "cell_type": "code",
      "metadata": {
        "colab": {
          "base_uri": "https://localhost:8080/"
        },
        "id": "cilqYR6jabOe",
        "outputId": "3a44369d-ce7f-4fa9-c463-5841e0a83da9"
      },
      "source": [
        "import math\n",
        "data['AmountInUSD'].describe().apply(lambda x: math.ceil(x))\n",
        "# applied math.ceil() to express the numbers in normal format instead of exponential"
      ],
      "execution_count": 16,
      "outputs": [
        {
          "output_type": "execute_result",
          "data": {
            "text/plain": [
              "count          1525\n",
              "mean       12031074\n",
              "std        64031176\n",
              "min           16000\n",
              "25%          370000\n",
              "50%         1070000\n",
              "75%         6000000\n",
              "max      1400000000\n",
              "Name: AmountInUSD, dtype: int64"
            ]
          },
          "metadata": {},
          "execution_count": 16
        }
      ]
    },
    {
      "cell_type": "code",
      "metadata": {
        "colab": {
          "base_uri": "https://localhost:8080/"
        },
        "id": "f6mirpmIaiiM",
        "outputId": "46926a1e-7087-493b-d0b7-71c425efdb53"
      },
      "source": [
        "data[data['AmountInUSD'].isnull()].shape"
      ],
      "execution_count": 17,
      "outputs": [
        {
          "output_type": "execute_result",
          "data": {
            "text/plain": [
              "(847, 8)"
            ]
          },
          "metadata": {},
          "execution_count": 17
        }
      ]
    },
    {
      "cell_type": "markdown",
      "metadata": {
        "id": "xu5zvdHRavt_"
      },
      "source": [
        "# **CityLocation**\n",
        "\n",
        "The missing value for cities can be filled by 'Not Specified\""
      ]
    },
    {
      "cell_type": "code",
      "metadata": {
        "colab": {
          "base_uri": "https://localhost:8080/"
        },
        "id": "z5lFrTs1a7Fm",
        "outputId": "721093db-c7c4-4495-e0a7-268196297e8b"
      },
      "source": [
        "data['CityLocation'].head(10)"
      ],
      "execution_count": 18,
      "outputs": [
        {
          "output_type": "execute_result",
          "data": {
            "text/plain": [
              "0    Bangalore\n",
              "1       Mumbai\n",
              "2    New Delhi\n",
              "3       Mumbai\n",
              "4    Hyderabad\n",
              "5    Bangalore\n",
              "6    Ahmedabad\n",
              "7      Gurgaon\n",
              "8    Bangalore\n",
              "9        Noida\n",
              "Name: CityLocation, dtype: object"
            ]
          },
          "metadata": {},
          "execution_count": 18
        }
      ]
    },
    {
      "cell_type": "code",
      "metadata": {
        "colab": {
          "base_uri": "https://localhost:8080/"
        },
        "id": "uDYKSPQNa8IB",
        "outputId": "08c579e4-4439-4df1-92f4-9b248e701db6"
      },
      "source": [
        "data['CityLocation'].describe()"
      ],
      "execution_count": 19,
      "outputs": [
        {
          "output_type": "execute_result",
          "data": {
            "text/plain": [
              "count          2193\n",
              "unique           71\n",
              "top       Bangalore\n",
              "freq            627\n",
              "Name: CityLocation, dtype: object"
            ]
          },
          "metadata": {},
          "execution_count": 19
        }
      ]
    },
    {
      "cell_type": "code",
      "metadata": {
        "colab": {
          "base_uri": "https://localhost:8080/"
        },
        "id": "vfZxTS-YbJ1-",
        "outputId": "deabf11d-374e-4d46-f079-ac7900e1596c"
      },
      "source": [
        "data[data['CityLocation'].isnull()].shape"
      ],
      "execution_count": 20,
      "outputs": [
        {
          "output_type": "execute_result",
          "data": {
            "text/plain": [
              "(179, 8)"
            ]
          },
          "metadata": {},
          "execution_count": 20
        }
      ]
    },
    {
      "cell_type": "markdown",
      "metadata": {
        "id": "lvM4HQ7tbOgC"
      },
      "source": [
        "There are 179 null values in CityLocation. that is 7% of the entire data set. Let's fill up the null values with \"Not Specific\".\n",
        "Also, if we see closely, some rows have multiple cities, So lets clean them up and just use one city name."
      ]
    },
    {
      "cell_type": "code",
      "metadata": {
        "id": "t1tj7qbZbUOL"
      },
      "source": [
        "data['CityLocation'].fillna(value='Not Specified',inplace=True)"
      ],
      "execution_count": 21,
      "outputs": []
    },
    {
      "cell_type": "markdown",
      "metadata": {
        "id": "R0bgyanIcxkN"
      },
      "source": [
        "Making a function to check if multiple cities are mentioned separated by '/', if yes, then replace it with the first name."
      ]
    },
    {
      "cell_type": "code",
      "metadata": {
        "id": "YnSJmoVdczf-"
      },
      "source": [
        "def city_cleaner(x):\n",
        "    return x.split('/')[0].strip()"
      ],
      "execution_count": 22,
      "outputs": []
    },
    {
      "cell_type": "code",
      "metadata": {
        "id": "uOi-Ob95c2m9"
      },
      "source": [
        "data['CityLocation']=data['CityLocation'].apply(city_cleaner)"
      ],
      "execution_count": 23,
      "outputs": []
    },
    {
      "cell_type": "code",
      "metadata": {
        "colab": {
          "base_uri": "https://localhost:8080/"
        },
        "id": "XkyBorD7c860",
        "outputId": "8c0c1c07-5a2c-478b-e996-21b3b5c42131"
      },
      "source": [
        "data['CityLocation'].value_counts().head(15)"
      ],
      "execution_count": 24,
      "outputs": [
        {
          "output_type": "execute_result",
          "data": {
            "text/plain": [
              "Bangalore        634\n",
              "Mumbai           449\n",
              "New Delhi        385\n",
              "Gurgaon          241\n",
              "Not Specified    179\n",
              "Pune              91\n",
              "Noida             79\n",
              "Hyderabad         77\n",
              "Chennai           67\n",
              "Ahmedabad         35\n",
              "Jaipur            25\n",
              "Kolkata           19\n",
              "Chandigarh        10\n",
              "Vadodara           9\n",
              "Indore             9\n",
              "Name: CityLocation, dtype: int64"
            ]
          },
          "metadata": {},
          "execution_count": 24
        }
      ]
    },
    {
      "cell_type": "markdown",
      "metadata": {
        "id": "A9JrtzNBdD46"
      },
      "source": [
        "# **IndustryVertical**\n",
        "\n",
        "IndustryVertical has 171 null values, filling those rows with value 'Other'.\n",
        "Also, IndustryVertical consists of some duplicate values with different caps. To sort this, lets convert all to lowercase so that all have same caps"
      ]
    },
    {
      "cell_type": "code",
      "metadata": {
        "colab": {
          "base_uri": "https://localhost:8080/"
        },
        "id": "GWNvbwledJcV",
        "outputId": "89ce493c-8183-4fc6-ef84-34244268eabc"
      },
      "source": [
        "data['IndustryVertical'].head(10)"
      ],
      "execution_count": 25,
      "outputs": [
        {
          "output_type": "execute_result",
          "data": {
            "text/plain": [
              "0           Technology\n",
              "1           Technology\n",
              "2    Consumer Internet\n",
              "3    Consumer Internet\n",
              "4    Consumer Internet\n",
              "5    Consumer Internet\n",
              "6           Technology\n",
              "7            eCommerce\n",
              "8            eCommerce\n",
              "9            eCommerce\n",
              "Name: IndustryVertical, dtype: object"
            ]
          },
          "metadata": {},
          "execution_count": 25
        }
      ]
    },
    {
      "cell_type": "code",
      "metadata": {
        "id": "i6rHxrPSdMPL"
      },
      "source": [
        "data['IndustryVertical'].fillna('Others',inplace=True)"
      ],
      "execution_count": 26,
      "outputs": []
    },
    {
      "cell_type": "code",
      "metadata": {
        "id": "YZETBaBDdRkX"
      },
      "source": [
        "data['IndustryVertical']=data['IndustryVertical'].apply(lambda x: x.lower())"
      ],
      "execution_count": 27,
      "outputs": []
    },
    {
      "cell_type": "markdown",
      "metadata": {
        "id": "YmmmcYgJdZzQ"
      },
      "source": [
        "\n",
        "# **InvestorsName**"
      ]
    },
    {
      "cell_type": "code",
      "metadata": {
        "colab": {
          "base_uri": "https://localhost:8080/"
        },
        "id": "l9g2eTuAdlAT",
        "outputId": "ab10b35a-c0e1-4341-cd32-af180094c056"
      },
      "source": [
        "data['InvestorsName'].value_counts().head()"
      ],
      "execution_count": 28,
      "outputs": [
        {
          "output_type": "execute_result",
          "data": {
            "text/plain": [
              "Undisclosed Investors    33\n",
              "Undisclosed investors    27\n",
              "Ratan Tata               24\n",
              "Indian Angel Network     24\n",
              "Kalaari Capital          16\n",
              "Name: InvestorsName, dtype: int64"
            ]
          },
          "metadata": {},
          "execution_count": 28
        }
      ]
    },
    {
      "cell_type": "markdown",
      "metadata": {
        "id": "DZhoQ-KCdp4a"
      },
      "source": [
        "InvestorsName has 8 null values, filling those rows with value 'Undisclosed Investors'.\n",
        "Also we need to change 'Undisclosed investors' to 'Undisclosed Investors'"
      ]
    },
    {
      "cell_type": "code",
      "metadata": {
        "id": "iwnkCzWpdrJT"
      },
      "source": [
        "data['InvestorsName'].fillna(value='Undisclosed Investors',inplace=True)\n",
        "data['InvestorsName']=data['InvestorsName'].replace('Undisclosed investors','Undisclosed Investors')"
      ],
      "execution_count": 29,
      "outputs": []
    },
    {
      "cell_type": "code",
      "metadata": {
        "colab": {
          "base_uri": "https://localhost:8080/"
        },
        "id": "Ba13q9DXdv-h",
        "outputId": "372ee518-8e7e-419b-a5f2-ad45fd49aad0"
      },
      "source": [
        "data['InvestorsName'].value_counts().head()"
      ],
      "execution_count": 30,
      "outputs": [
        {
          "output_type": "execute_result",
          "data": {
            "text/plain": [
              "Undisclosed Investors       68\n",
              "Indian Angel Network        24\n",
              "Ratan Tata                  24\n",
              "Kalaari Capital             16\n",
              "Group of Angel Investors    15\n",
              "Name: InvestorsName, dtype: int64"
            ]
          },
          "metadata": {},
          "execution_count": 30
        }
      ]
    },
    {
      "cell_type": "markdown",
      "metadata": {
        "id": "KEnIylJXd4Q2"
      },
      "source": [
        "\n",
        "# **InvestmentType**"
      ]
    },
    {
      "cell_type": "code",
      "metadata": {
        "colab": {
          "base_uri": "https://localhost:8080/"
        },
        "id": "EY2d-rfqd7US",
        "outputId": "f4e20534-4900-4e0e-ccb6-99af611aead3"
      },
      "source": [
        "data['InvestmentType'].describe()"
      ],
      "execution_count": 31,
      "outputs": [
        {
          "output_type": "execute_result",
          "data": {
            "text/plain": [
              "count             2371\n",
              "unique               7\n",
              "top       Seed Funding\n",
              "freq              1271\n",
              "Name: InvestmentType, dtype: object"
            ]
          },
          "metadata": {},
          "execution_count": 31
        }
      ]
    },
    {
      "cell_type": "markdown",
      "metadata": {
        "id": "HD3VdzG6eD8u"
      },
      "source": [
        "Let's fill up the 1 missing value in InvestmentType with the most common value, that is, Seed Funding"
      ]
    },
    {
      "cell_type": "code",
      "metadata": {
        "id": "bWXRICZreFrk"
      },
      "source": [
        "data['InvestmentType'].fillna('Seed Funding',inplace=True)"
      ],
      "execution_count": 32,
      "outputs": []
    },
    {
      "cell_type": "markdown",
      "metadata": {
        "id": "5ktWnOjdeQJa"
      },
      "source": [
        "\n",
        "# **Date**"
      ]
    },
    {
      "cell_type": "code",
      "metadata": {
        "colab": {
          "base_uri": "https://localhost:8080/"
        },
        "id": "U6ffl0f-eWlY",
        "outputId": "46ba8814-a0fe-43ae-86d7-ccafba9b1997"
      },
      "source": [
        "data['Date'].describe()"
      ],
      "execution_count": 33,
      "outputs": [
        {
          "output_type": "execute_result",
          "data": {
            "text/plain": [
              "count           2372\n",
              "unique           701\n",
              "top       30/11/2016\n",
              "freq              11\n",
              "Name: Date, dtype: object"
            ]
          },
          "metadata": {},
          "execution_count": 33
        }
      ]
    },
    {
      "cell_type": "markdown",
      "metadata": {
        "id": "HY17XO58ee-v"
      },
      "source": [
        "When we initially tried to convert Date column to date time, several errors popped up due to bad format ('.' instead of '/' and so on. So cleaned the strings, then converted to datetime"
      ]
    },
    {
      "cell_type": "code",
      "metadata": {
        "id": "3LZ3g08MejZ1"
      },
      "source": [
        "data['Date']=data['Date'].apply(lambda x: str(x).replace('.','/'))\n",
        "data['Date']=data['Date'].apply(lambda x: str(x).replace('//','/'))"
      ],
      "execution_count": 34,
      "outputs": []
    },
    {
      "cell_type": "code",
      "metadata": {
        "id": "Ln5nYnxeemUb"
      },
      "source": [
        "data['Date']=pd.to_datetime(data['Date'])"
      ],
      "execution_count": 35,
      "outputs": []
    },
    {
      "cell_type": "code",
      "metadata": {
        "colab": {
          "base_uri": "https://localhost:8080/",
          "height": 287
        },
        "id": "7m4y_X08eqfj",
        "outputId": "980163e4-e810-4c5a-a4d4-9c0b3bbdfff6"
      },
      "source": [
        "data.head()"
      ],
      "execution_count": 36,
      "outputs": [
        {
          "output_type": "execute_result",
          "data": {
            "text/html": [
              "<div>\n",
              "<style scoped>\n",
              "    .dataframe tbody tr th:only-of-type {\n",
              "        vertical-align: middle;\n",
              "    }\n",
              "\n",
              "    .dataframe tbody tr th {\n",
              "        vertical-align: top;\n",
              "    }\n",
              "\n",
              "    .dataframe thead th {\n",
              "        text-align: right;\n",
              "    }\n",
              "</style>\n",
              "<table border=\"1\" class=\"dataframe\">\n",
              "  <thead>\n",
              "    <tr style=\"text-align: right;\">\n",
              "      <th></th>\n",
              "      <th>Date</th>\n",
              "      <th>StartupName</th>\n",
              "      <th>IndustryVertical</th>\n",
              "      <th>SubVertical</th>\n",
              "      <th>CityLocation</th>\n",
              "      <th>InvestorsName</th>\n",
              "      <th>InvestmentType</th>\n",
              "      <th>AmountInUSD</th>\n",
              "    </tr>\n",
              "  </thead>\n",
              "  <tbody>\n",
              "    <tr>\n",
              "      <th>0</th>\n",
              "      <td>2017-01-08</td>\n",
              "      <td>TouchKin</td>\n",
              "      <td>technology</td>\n",
              "      <td>Predictive Care Platform</td>\n",
              "      <td>Bangalore</td>\n",
              "      <td>Kae Capital</td>\n",
              "      <td>Private Equity</td>\n",
              "      <td>1300000.0</td>\n",
              "    </tr>\n",
              "    <tr>\n",
              "      <th>1</th>\n",
              "      <td>2017-02-08</td>\n",
              "      <td>Ethinos</td>\n",
              "      <td>technology</td>\n",
              "      <td>Digital Marketing Agency</td>\n",
              "      <td>Mumbai</td>\n",
              "      <td>Triton Investment Advisors</td>\n",
              "      <td>Private Equity</td>\n",
              "      <td>NaN</td>\n",
              "    </tr>\n",
              "    <tr>\n",
              "      <th>2</th>\n",
              "      <td>2017-02-08</td>\n",
              "      <td>Leverage Edu</td>\n",
              "      <td>consumer internet</td>\n",
              "      <td>Online platform for Higher Education Services</td>\n",
              "      <td>New Delhi</td>\n",
              "      <td>Kashyap Deorah, Anand Sankeshwar, Deepak Jain,...</td>\n",
              "      <td>Seed Funding</td>\n",
              "      <td>NaN</td>\n",
              "    </tr>\n",
              "    <tr>\n",
              "      <th>3</th>\n",
              "      <td>2017-02-08</td>\n",
              "      <td>Zepo</td>\n",
              "      <td>consumer internet</td>\n",
              "      <td>DIY Ecommerce platform</td>\n",
              "      <td>Mumbai</td>\n",
              "      <td>Kunal Shah, LetsVenture, Anupam Mittal, Hetal ...</td>\n",
              "      <td>Seed Funding</td>\n",
              "      <td>500000.0</td>\n",
              "    </tr>\n",
              "    <tr>\n",
              "      <th>4</th>\n",
              "      <td>2017-02-08</td>\n",
              "      <td>Click2Clinic</td>\n",
              "      <td>consumer internet</td>\n",
              "      <td>healthcare service aggregator</td>\n",
              "      <td>Hyderabad</td>\n",
              "      <td>Narottam Thudi, Shireesh Palle</td>\n",
              "      <td>Seed Funding</td>\n",
              "      <td>850000.0</td>\n",
              "    </tr>\n",
              "  </tbody>\n",
              "</table>\n",
              "</div>"
            ],
            "text/plain": [
              "        Date   StartupName  ...  InvestmentType AmountInUSD\n",
              "0 2017-01-08      TouchKin  ...  Private Equity   1300000.0\n",
              "1 2017-02-08       Ethinos  ...  Private Equity         NaN\n",
              "2 2017-02-08  Leverage Edu  ...    Seed Funding         NaN\n",
              "3 2017-02-08          Zepo  ...    Seed Funding    500000.0\n",
              "4 2017-02-08  Click2Clinic  ...    Seed Funding    850000.0\n",
              "\n",
              "[5 rows x 8 columns]"
            ]
          },
          "metadata": {},
          "execution_count": 36
        }
      ]
    },
    {
      "cell_type": "code",
      "metadata": {
        "id": "GXXzHScxevSq"
      },
      "source": [
        "data=data.sort_values('Date',ascending=False).reset_index()"
      ],
      "execution_count": 37,
      "outputs": []
    },
    {
      "cell_type": "code",
      "metadata": {
        "colab": {
          "base_uri": "https://localhost:8080/",
          "height": 287
        },
        "id": "4XrCTYeWe0eh",
        "outputId": "ef0db575-2320-4413-fdbb-e3d54d08bb9d"
      },
      "source": [
        "data.head()"
      ],
      "execution_count": 38,
      "outputs": [
        {
          "output_type": "execute_result",
          "data": {
            "text/html": [
              "<div>\n",
              "<style scoped>\n",
              "    .dataframe tbody tr th:only-of-type {\n",
              "        vertical-align: middle;\n",
              "    }\n",
              "\n",
              "    .dataframe tbody tr th {\n",
              "        vertical-align: top;\n",
              "    }\n",
              "\n",
              "    .dataframe thead th {\n",
              "        text-align: right;\n",
              "    }\n",
              "</style>\n",
              "<table border=\"1\" class=\"dataframe\">\n",
              "  <thead>\n",
              "    <tr style=\"text-align: right;\">\n",
              "      <th></th>\n",
              "      <th>index</th>\n",
              "      <th>Date</th>\n",
              "      <th>StartupName</th>\n",
              "      <th>IndustryVertical</th>\n",
              "      <th>SubVertical</th>\n",
              "      <th>CityLocation</th>\n",
              "      <th>InvestorsName</th>\n",
              "      <th>InvestmentType</th>\n",
              "      <th>AmountInUSD</th>\n",
              "    </tr>\n",
              "  </thead>\n",
              "  <tbody>\n",
              "    <tr>\n",
              "      <th>0</th>\n",
              "      <td>19</td>\n",
              "      <td>2017-12-07</td>\n",
              "      <td>Innoviti</td>\n",
              "      <td>technology</td>\n",
              "      <td>Digital payments solutions</td>\n",
              "      <td>Bangalore</td>\n",
              "      <td>SBI-FMO Fund, Bessemer Venture Partners, Catam...</td>\n",
              "      <td>Private Equity</td>\n",
              "      <td>18500000.0</td>\n",
              "    </tr>\n",
              "    <tr>\n",
              "      <th>1</th>\n",
              "      <td>22</td>\n",
              "      <td>2017-12-07</td>\n",
              "      <td>Arcatron</td>\n",
              "      <td>technology</td>\n",
              "      <td>Next Gen Mobility device manufacturer</td>\n",
              "      <td>Pune</td>\n",
              "      <td>Indian Angel Network</td>\n",
              "      <td>Seed Funding</td>\n",
              "      <td>NaN</td>\n",
              "    </tr>\n",
              "    <tr>\n",
              "      <th>2</th>\n",
              "      <td>21</td>\n",
              "      <td>2017-12-07</td>\n",
              "      <td>Bottr.me</td>\n",
              "      <td>technology</td>\n",
              "      <td>Chatbot creation tool</td>\n",
              "      <td>Bangalore</td>\n",
              "      <td>500 Startups, Purvi Capital, Rajan Anandan, Ab...</td>\n",
              "      <td>Seed Funding</td>\n",
              "      <td>NaN</td>\n",
              "    </tr>\n",
              "    <tr>\n",
              "      <th>3</th>\n",
              "      <td>20</td>\n",
              "      <td>2017-12-07</td>\n",
              "      <td>VDeliver</td>\n",
              "      <td>logistics</td>\n",
              "      <td>Door Step Delivery platform</td>\n",
              "      <td>Hyderabad</td>\n",
              "      <td>Corvus Ventures, MAPE Advisory Group</td>\n",
              "      <td>Private Equity</td>\n",
              "      <td>NaN</td>\n",
              "    </tr>\n",
              "    <tr>\n",
              "      <th>4</th>\n",
              "      <td>72</td>\n",
              "      <td>2017-12-06</td>\n",
              "      <td>CoverFox</td>\n",
              "      <td>consumer internet</td>\n",
              "      <td>Online insurance brokerage platform</td>\n",
              "      <td>Mumbai</td>\n",
              "      <td>Transamerica</td>\n",
              "      <td>Private Equity</td>\n",
              "      <td>15000000.0</td>\n",
              "    </tr>\n",
              "  </tbody>\n",
              "</table>\n",
              "</div>"
            ],
            "text/plain": [
              "   index       Date  ...  InvestmentType AmountInUSD\n",
              "0     19 2017-12-07  ...  Private Equity  18500000.0\n",
              "1     22 2017-12-07  ...    Seed Funding         NaN\n",
              "2     21 2017-12-07  ...    Seed Funding         NaN\n",
              "3     20 2017-12-07  ...  Private Equity         NaN\n",
              "4     72 2017-12-06  ...  Private Equity  15000000.0\n",
              "\n",
              "[5 rows x 9 columns]"
            ]
          },
          "metadata": {},
          "execution_count": 38
        }
      ]
    },
    {
      "cell_type": "markdown",
      "metadata": {
        "id": "Kp4zVk9qe99J"
      },
      "source": [
        "\n",
        "# **StartupName**"
      ]
    },
    {
      "cell_type": "code",
      "metadata": {
        "id": "brIOzy12fD9j"
      },
      "source": [
        "data['StartupName']=data['StartupName'].apply(lambda x: x.lower())"
      ],
      "execution_count": 39,
      "outputs": []
    },
    {
      "cell_type": "markdown",
      "metadata": {
        "id": "_8ppRlc8fJTb"
      },
      "source": [
        "While exploring the data, it was found that there have been separate names for same startups due to difference in spellings. So let's remove all ambiguous names."
      ]
    },
    {
      "cell_type": "code",
      "metadata": {
        "id": "M0eiyEs2fKyf"
      },
      "source": [
        "data['StartupName']=data['StartupName'].apply(lambda x: str(x).replace('ola cabs','ola'))\n",
        "data['StartupName']=data['StartupName'].apply(lambda x: str(x).replace('olacabs','ola'))\n",
        "data['StartupName']=data['StartupName'].apply(lambda x: str(x).replace('flipkart.com','flipkart'))\n",
        "data['StartupName']=data['StartupName'].apply(lambda x: str(x).replace('paytm marketplace','paytm'))"
      ],
      "execution_count": 40,
      "outputs": []
    },
    {
      "cell_type": "code",
      "metadata": {
        "colab": {
          "base_uri": "https://localhost:8080/"
        },
        "id": "qhiYWFIVfN-j",
        "outputId": "2d64ce36-1482-4b08-d794-eb575af97af8"
      },
      "source": [
        "print('Number of unique startups funded:',data['StartupName'].nunique())"
      ],
      "execution_count": 41,
      "outputs": [
        {
          "output_type": "stream",
          "name": "stdout",
          "text": [
            "Number of unique startups funded: 1917\n"
          ]
        }
      ]
    },
    {
      "cell_type": "markdown",
      "metadata": {
        "id": "vj6mUyYZfZOj"
      },
      "source": [
        "# **Exploring the Data**"
      ]
    },
    {
      "cell_type": "code",
      "metadata": {
        "id": "tCaq-mbUfhPx"
      },
      "source": [
        "# This method allows us to make the ticks showed in x-axis more readable by inserting newlines, We can pass in\n",
        "# a series and it returns a formatted index series\n",
        "def ticks_display_cleaner(series):\n",
        "    putSpace=True\n",
        "    index=list(series.index)\n",
        "    values=list(series.values)\n",
        "    for i in range(len(index)):\n",
        "        c=index[i].strip().split(' ')\n",
        "        if len(c)>2:\n",
        "            c.insert(2,'\\n')\n",
        "        if len(c)>5:\n",
        "            c.insert(5,'\\n')\n",
        "        for j in range(len(c)):\n",
        "            if c[j]!='\\n':\n",
        "                c[j]=c[j]+' '\n",
        "        index[i]=''.join(c)\n",
        "    return pd.Series(values,index=index)"
      ],
      "execution_count": 42,
      "outputs": []
    },
    {
      "cell_type": "markdown",
      "metadata": {
        "id": "ZSmCOpKgfrzb"
      },
      "source": [
        "# **Q1. Top 20 Startups on the basis of funds acquired**"
      ]
    },
    {
      "cell_type": "code",
      "metadata": {
        "colab": {
          "base_uri": "https://localhost:8080/",
          "height": 665
        },
        "id": "joU4HYiufyTG",
        "outputId": "1ade75ab-d02c-41c8-8bed-a79d47a6d142"
      },
      "source": [
        "top_20_startups=pd.DataFrame(data.groupby('StartupName')['AmountInUSD'].sum().sort_values(ascending=False).reset_index().head(20))\n",
        "top_20_startups['AmountInUSD']=top_20_startups['AmountInUSD'].apply(lambda x: math.ceil(x))\n",
        "top_20_startups"
      ],
      "execution_count": 43,
      "outputs": [
        {
          "output_type": "execute_result",
          "data": {
            "text/html": [
              "<div>\n",
              "<style scoped>\n",
              "    .dataframe tbody tr th:only-of-type {\n",
              "        vertical-align: middle;\n",
              "    }\n",
              "\n",
              "    .dataframe tbody tr th {\n",
              "        vertical-align: top;\n",
              "    }\n",
              "\n",
              "    .dataframe thead th {\n",
              "        text-align: right;\n",
              "    }\n",
              "</style>\n",
              "<table border=\"1\" class=\"dataframe\">\n",
              "  <thead>\n",
              "    <tr style=\"text-align: right;\">\n",
              "      <th></th>\n",
              "      <th>StartupName</th>\n",
              "      <th>AmountInUSD</th>\n",
              "    </tr>\n",
              "  </thead>\n",
              "  <tbody>\n",
              "    <tr>\n",
              "      <th>0</th>\n",
              "      <td>paytm</td>\n",
              "      <td>2340000000</td>\n",
              "    </tr>\n",
              "    <tr>\n",
              "      <th>1</th>\n",
              "      <td>flipkart</td>\n",
              "      <td>2259700000</td>\n",
              "    </tr>\n",
              "    <tr>\n",
              "      <th>2</th>\n",
              "      <td>ola</td>\n",
              "      <td>1899500000</td>\n",
              "    </tr>\n",
              "    <tr>\n",
              "      <th>3</th>\n",
              "      <td>snapdeal</td>\n",
              "      <td>700000000</td>\n",
              "    </tr>\n",
              "    <tr>\n",
              "      <th>4</th>\n",
              "      <td>oyo rooms</td>\n",
              "      <td>375000000</td>\n",
              "    </tr>\n",
              "    <tr>\n",
              "      <th>5</th>\n",
              "      <td>quikr</td>\n",
              "      <td>230000000</td>\n",
              "    </tr>\n",
              "    <tr>\n",
              "      <th>6</th>\n",
              "      <td>delhivery</td>\n",
              "      <td>215000000</td>\n",
              "    </tr>\n",
              "    <tr>\n",
              "      <th>7</th>\n",
              "      <td>foodpanda</td>\n",
              "      <td>210000000</td>\n",
              "    </tr>\n",
              "    <tr>\n",
              "      <th>8</th>\n",
              "      <td>shopclues</td>\n",
              "      <td>207700000</td>\n",
              "    </tr>\n",
              "    <tr>\n",
              "      <th>9</th>\n",
              "      <td>bigbasket</td>\n",
              "      <td>207000000</td>\n",
              "    </tr>\n",
              "    <tr>\n",
              "      <th>10</th>\n",
              "      <td>cartrade</td>\n",
              "      <td>200000000</td>\n",
              "    </tr>\n",
              "    <tr>\n",
              "      <th>11</th>\n",
              "      <td>makemytrip</td>\n",
              "      <td>180000000</td>\n",
              "    </tr>\n",
              "    <tr>\n",
              "      <th>12</th>\n",
              "      <td>byju’s</td>\n",
              "      <td>175000000</td>\n",
              "    </tr>\n",
              "    <tr>\n",
              "      <th>13</th>\n",
              "      <td>hike</td>\n",
              "      <td>175000000</td>\n",
              "    </tr>\n",
              "    <tr>\n",
              "      <th>14</th>\n",
              "      <td>practo</td>\n",
              "      <td>175000000</td>\n",
              "    </tr>\n",
              "    <tr>\n",
              "      <th>15</th>\n",
              "      <td>swiggy</td>\n",
              "      <td>170500000</td>\n",
              "    </tr>\n",
              "    <tr>\n",
              "      <th>16</th>\n",
              "      <td>grofers</td>\n",
              "      <td>165000000</td>\n",
              "    </tr>\n",
              "    <tr>\n",
              "      <th>17</th>\n",
              "      <td>oyorooms</td>\n",
              "      <td>162000000</td>\n",
              "    </tr>\n",
              "    <tr>\n",
              "      <th>18</th>\n",
              "      <td>freecharge</td>\n",
              "      <td>137000000</td>\n",
              "    </tr>\n",
              "    <tr>\n",
              "      <th>19</th>\n",
              "      <td>ecom express</td>\n",
              "      <td>137000000</td>\n",
              "    </tr>\n",
              "  </tbody>\n",
              "</table>\n",
              "</div>"
            ],
            "text/plain": [
              "     StartupName  AmountInUSD\n",
              "0          paytm   2340000000\n",
              "1       flipkart   2259700000\n",
              "2            ola   1899500000\n",
              "3       snapdeal    700000000\n",
              "4      oyo rooms    375000000\n",
              "5          quikr    230000000\n",
              "6      delhivery    215000000\n",
              "7      foodpanda    210000000\n",
              "8      shopclues    207700000\n",
              "9      bigbasket    207000000\n",
              "10      cartrade    200000000\n",
              "11    makemytrip    180000000\n",
              "12        byju’s    175000000\n",
              "13          hike    175000000\n",
              "14        practo    175000000\n",
              "15        swiggy    170500000\n",
              "16       grofers    165000000\n",
              "17      oyorooms    162000000\n",
              "18    freecharge    137000000\n",
              "19  ecom express    137000000"
            ]
          },
          "metadata": {},
          "execution_count": 43
        }
      ]
    },
    {
      "cell_type": "code",
      "metadata": {
        "colab": {
          "base_uri": "https://localhost:8080/",
          "height": 970
        },
        "id": "ViAfAl7sfz_u",
        "outputId": "7fe77696-2586-44a1-e87c-8288fd10a4ce"
      },
      "source": [
        "plt.figure(figsize=(20,15))\n",
        "plt.title('TOP 20 STARTUPS',fontsize=25)\n",
        "plt.xticks(fontsize=19,rotation='vertical')\n",
        "plt.ylabel('Amount In USD',fontsize=20)\n",
        "sns.barplot(x='StartupName',y='AmountInUSD',data=top_20_startups)\n",
        "plt.savefig('top20startups.png',dpi=300)\n",
        "plt.show()"
      ],
      "execution_count": 44,
      "outputs": [
        {
          "output_type": "display_data",
          "data": {
            "image/png": "[encoded data removed]",
            "text/plain": [
              "<Figure size 1440x1080 with 1 Axes>"
            ]
          },
          "metadata": {
            "needs_background": "light"
          }
        }
      ]
    },
    {
      "cell_type": "markdown",
      "metadata": {
        "id": "a5WBRBRVgFS8"
      },
      "source": [
        "The above Output shows the top 20 startups funded between January 2015 to December 2017.\n",
        "Paytm and Flipkart are the highest funded startups."
      ]
    },
    {
      "cell_type": "markdown",
      "metadata": {
        "id": "-oY_iS0ogL6d"
      },
      "source": [
        "# **Q2. Startup(s) which acquired the minimum amount of funds**"
      ]
    },
    {
      "cell_type": "code",
      "metadata": {
        "colab": {
          "base_uri": "https://localhost:8080/"
        },
        "id": "5tbbbYDrgSOg",
        "outputId": "ef1a333b-d558-42d4-ccc6-5df08a3d3f27"
      },
      "source": [
        "print('Minimum funds acquired by a startup: ',data['AmountInUSD'].describe()['min'])"
      ],
      "execution_count": 45,
      "outputs": [
        {
          "output_type": "stream",
          "name": "stdout",
          "text": [
            "Minimum funds acquired by a startup:  16000.0\n"
          ]
        }
      ]
    },
    {
      "cell_type": "code",
      "metadata": {
        "colab": {
          "base_uri": "https://localhost:8080/",
          "height": 287
        },
        "id": "77Wf0rvtgT3N",
        "outputId": "cd21af7e-7614-40a4-d090-8f1693c2dd4d"
      },
      "source": [
        "data[data['AmountInUSD']==16000]"
      ],
      "execution_count": 46,
      "outputs": [
        {
          "output_type": "execute_result",
          "data": {
            "text/html": [
              "<div>\n",
              "<style scoped>\n",
              "    .dataframe tbody tr th:only-of-type {\n",
              "        vertical-align: middle;\n",
              "    }\n",
              "\n",
              "    .dataframe tbody tr th {\n",
              "        vertical-align: top;\n",
              "    }\n",
              "\n",
              "    .dataframe thead th {\n",
              "        text-align: right;\n",
              "    }\n",
              "</style>\n",
              "<table border=\"1\" class=\"dataframe\">\n",
              "  <thead>\n",
              "    <tr style=\"text-align: right;\">\n",
              "      <th></th>\n",
              "      <th>index</th>\n",
              "      <th>Date</th>\n",
              "      <th>StartupName</th>\n",
              "      <th>IndustryVertical</th>\n",
              "      <th>SubVertical</th>\n",
              "      <th>CityLocation</th>\n",
              "      <th>InvestorsName</th>\n",
              "      <th>InvestmentType</th>\n",
              "      <th>AmountInUSD</th>\n",
              "    </tr>\n",
              "  </thead>\n",
              "  <tbody>\n",
              "    <tr>\n",
              "      <th>2322</th>\n",
              "      <td>2347</td>\n",
              "      <td>2015-01-19</td>\n",
              "      <td>yo grad</td>\n",
              "      <td>others</td>\n",
              "      <td>Not Specified or Other</td>\n",
              "      <td>Not Specified</td>\n",
              "      <td>Hyderabad Angels (at Startup Heroes event)</td>\n",
              "      <td>Seed Funding</td>\n",
              "      <td>16000.0</td>\n",
              "    </tr>\n",
              "    <tr>\n",
              "      <th>2325</th>\n",
              "      <td>2345</td>\n",
              "      <td>2015-01-19</td>\n",
              "      <td>hostel dunia</td>\n",
              "      <td>others</td>\n",
              "      <td>Not Specified or Other</td>\n",
              "      <td>Not Specified</td>\n",
              "      <td>Hyderabad Angels (at Startup Heroes event)</td>\n",
              "      <td>Seed Funding</td>\n",
              "      <td>16000.0</td>\n",
              "    </tr>\n",
              "    <tr>\n",
              "      <th>2326</th>\n",
              "      <td>2346</td>\n",
              "      <td>2015-01-19</td>\n",
              "      <td>play your sport</td>\n",
              "      <td>others</td>\n",
              "      <td>Not Specified or Other</td>\n",
              "      <td>Not Specified</td>\n",
              "      <td>Hyderabad Angels (at Startup Heroes event)</td>\n",
              "      <td>Seed Funding</td>\n",
              "      <td>16000.0</td>\n",
              "    </tr>\n",
              "    <tr>\n",
              "      <th>2328</th>\n",
              "      <td>2348</td>\n",
              "      <td>2015-01-19</td>\n",
              "      <td>enabli</td>\n",
              "      <td>others</td>\n",
              "      <td>Not Specified or Other</td>\n",
              "      <td>Not Specified</td>\n",
              "      <td>Hyderabad Angels (at Startup Heroes event)</td>\n",
              "      <td>Seed Funding</td>\n",
              "      <td>16000.0</td>\n",
              "    </tr>\n",
              "    <tr>\n",
              "      <th>2329</th>\n",
              "      <td>2349</td>\n",
              "      <td>2015-01-19</td>\n",
              "      <td>cbs</td>\n",
              "      <td>others</td>\n",
              "      <td>Not Specified or Other</td>\n",
              "      <td>Not Specified</td>\n",
              "      <td>Hyderabad Angels (at Startup Heroes event)</td>\n",
              "      <td>Seed Funding</td>\n",
              "      <td>16000.0</td>\n",
              "    </tr>\n",
              "  </tbody>\n",
              "</table>\n",
              "</div>"
            ],
            "text/plain": [
              "      index       Date  ... InvestmentType AmountInUSD\n",
              "2322   2347 2015-01-19  ...   Seed Funding     16000.0\n",
              "2325   2345 2015-01-19  ...   Seed Funding     16000.0\n",
              "2326   2346 2015-01-19  ...   Seed Funding     16000.0\n",
              "2328   2348 2015-01-19  ...   Seed Funding     16000.0\n",
              "2329   2349 2015-01-19  ...   Seed Funding     16000.0\n",
              "\n",
              "[5 rows x 9 columns]"
            ]
          },
          "metadata": {},
          "execution_count": 46
        }
      ]
    },
    {
      "cell_type": "markdown",
      "metadata": {
        "id": "mA5kVpVugdL1"
      },
      "source": [
        "**Yo Grad, Hostel Dunia, Plan Your Sport, Enabli**, and **CBS** are the startups who acquired least funding, that is, \\$16000"
      ]
    },
    {
      "cell_type": "markdown",
      "metadata": {
        "id": "zlU0P8m1gyEY"
      },
      "source": [
        "# **Q3. Which Industry has maximum number of startups?**"
      ]
    },
    {
      "cell_type": "code",
      "metadata": {
        "colab": {
          "base_uri": "https://localhost:8080/"
        },
        "id": "SnMf7LRng4Hc",
        "outputId": "bd38f43d-3468-4565-e8af-c3fcdf5b2a59"
      },
      "source": [
        "df=data[data['IndustryVertical']!='others']\n",
        "top_10_industries=df['IndustryVertical'].value_counts().sort_values(ascending=False).head(10)\n",
        "print(top_10_industries)\n",
        "top_10_industries=ticks_display_cleaner(top_10_industries)"
      ],
      "execution_count": 47,
      "outputs": [
        {
          "output_type": "stream",
          "name": "stdout",
          "text": [
            "consumer internet            772\n",
            "technology                   313\n",
            "ecommerce                    230\n",
            "healthcare                    31\n",
            "logistics                     24\n",
            "education                     20\n",
            "food & beverage               19\n",
            "finance                        9\n",
            "online food delivery           5\n",
            "online education platform      5\n",
            "Name: IndustryVertical, dtype: int64\n"
          ]
        }
      ]
    },
    {
      "cell_type": "code",
      "metadata": {
        "colab": {
          "base_uri": "https://localhost:8080/",
          "height": 770
        },
        "id": "GFcIJWrdg5bo",
        "outputId": "84dd96de-9bbd-4bae-e356-350cd83e0de8"
      },
      "source": [
        "plt.figure(figsize=(25,15))\n",
        "plt.xlabel('Industries',fontsize=16)\n",
        "plt.ylabel('Count',fontsize=16)\n",
        "plt.title('Count of Startups in Industries',fontsize=22)\n",
        "plt.xticks(fontsize=17)\n",
        "sns.barplot(top_10_industries.index,top_10_industries.values)\n",
        "plt.savefig('Industries.png',dpi=300)"
      ],
      "execution_count": 48,
      "outputs": [
        {
          "output_type": "stream",
          "name": "stderr",
          "text": [
            "/usr/local/lib/python3.7/dist-packages/seaborn/_decorators.py:43: FutureWarning: Pass the following variables as keyword args: x, y. From version 0.12, the only valid positional argument will be `data`, and passing other arguments without an explicit keyword will result in an error or misinterpretation.\n",
            "  FutureWarning\n"
          ]
        },
        {
          "output_type": "display_data",
          "data": {
            "image/png": "[encoded data removed]",
            "text/plain": [
              "<Figure size 1800x1080 with 1 Axes>"
            ]
          },
          "metadata": {
            "needs_background": "light"
          }
        }
      ]
    },
    {
      "cell_type": "markdown",
      "metadata": {
        "id": "TvE3nCgJhJY_"
      },
      "source": [
        "The top 3 industries having max number of startups are:\n",
        "\n",
        "Consumer Internet\n",
        "Technology\n",
        "ECommerce"
      ]
    },
    {
      "cell_type": "code",
      "metadata": {
        "colab": {
          "base_uri": "https://localhost:8080/"
        },
        "id": "QOqLpp4ehPT4",
        "outputId": "2a886b1e-883a-47c8-8fcf-779922516d72"
      },
      "source": [
        "df=data[data['SubVertical']!='Not Specified or Other']\n",
        "df['SubVertical'].value_counts(ascending=False).head(10)"
      ],
      "execution_count": 49,
      "outputs": [
        {
          "output_type": "execute_result",
          "data": {
            "text/plain": [
              "Online Pharmacy                  9\n",
              "Food Delivery Platform           8\n",
              "Online lending platform          5\n",
              "Online Learning Platform         4\n",
              "Online Payment Gateway           3\n",
              "ECommerce Marketplace            3\n",
              "Data Analytics platform          3\n",
              "Fitness Mobile App               3\n",
              "Online Food Delivery Platform    2\n",
              "Online Education Portal          2\n",
              "Name: SubVertical, dtype: int64"
            ]
          },
          "metadata": {},
          "execution_count": 49
        }
      ]
    },
    {
      "cell_type": "markdown",
      "metadata": {
        "id": "GX6lcECAhXl-"
      },
      "source": [
        "# **Lets have a look at each industry from a closer point of view**\n",
        "**1. Consumer Internet**\n",
        "\n",
        "Checking out top 10 sub-categories of industry having highest number of startups"
      ]
    },
    {
      "cell_type": "code",
      "metadata": {
        "colab": {
          "base_uri": "https://localhost:8080/",
          "height": 782
        },
        "id": "itC16Lm8hgk_",
        "outputId": "ee0ca2b1-4806-4b15-f14f-d084ea6d8f0e"
      },
      "source": [
        "ci=data[data['IndustryVertical']=='consumer internet']\n",
        "top_10_ci_sub=ci['SubVertical'].value_counts().sort_values(ascending=False).head(10)\n",
        "top_10_ci_sub=ticks_display_cleaner(top_10_ci_sub)\n",
        "plt.figure(figsize=(25,15))\n",
        "plt.xticks(fontsize=14)\n",
        "plt.title('Consumer Internet Sub-Category',fontsize=22)\n",
        "plt.xlabel('Sub-Categories',fontsize=19)\n",
        "plt.ylabel('Count',fontsize=19)\n",
        "sns.barplot(top_10_ci_sub.index,top_10_ci_sub.values)\n",
        "plt.savefig('Consumer-Internet.png',dpi=300)"
      ],
      "execution_count": 50,
      "outputs": [
        {
          "output_type": "stream",
          "name": "stderr",
          "text": [
            "/usr/local/lib/python3.7/dist-packages/seaborn/_decorators.py:43: FutureWarning: Pass the following variables as keyword args: x, y. From version 0.12, the only valid positional argument will be `data`, and passing other arguments without an explicit keyword will result in an error or misinterpretation.\n",
            "  FutureWarning\n"
          ]
        },
        {
          "output_type": "display_data",
          "data": {
            "image/png": "[encoded data removed]",
            "text/plain": [
              "<Figure size 1800x1080 with 1 Axes>"
            ]
          },
          "metadata": {
            "needs_background": "light"
          }
        }
      ]
    },
    {
      "cell_type": "markdown",
      "metadata": {
        "id": "lLPyFemQhovq"
      },
      "source": [
        "**Food Delivery Platform** has 8 startups, followed by **Online Lending Platform, Online Learning Platform, and Fitness Mobile App** having 5,4, and 3 startups listed respectively"
      ]
    },
    {
      "cell_type": "markdown",
      "metadata": {
        "id": "D_QZHgSKh5Hq"
      },
      "source": [
        "**Top consumer internet startups**"
      ]
    },
    {
      "cell_type": "code",
      "metadata": {
        "colab": {
          "base_uri": "https://localhost:8080/",
          "height": 357
        },
        "id": "I_m2FuHUh9TK",
        "outputId": "e6a08fa3-703d-461d-a892-a5a5ea3e067d"
      },
      "source": [
        "ci.groupby('StartupName')['AmountInUSD'].sum().sort_values(ascending=False).astype(int).head(10).reset_index()"
      ],
      "execution_count": 51,
      "outputs": [
        {
          "output_type": "execute_result",
          "data": {
            "text/html": [
              "<div>\n",
              "<style scoped>\n",
              "    .dataframe tbody tr th:only-of-type {\n",
              "        vertical-align: middle;\n",
              "    }\n",
              "\n",
              "    .dataframe tbody tr th {\n",
              "        vertical-align: top;\n",
              "    }\n",
              "\n",
              "    .dataframe thead th {\n",
              "        text-align: right;\n",
              "    }\n",
              "</style>\n",
              "<table border=\"1\" class=\"dataframe\">\n",
              "  <thead>\n",
              "    <tr style=\"text-align: right;\">\n",
              "      <th></th>\n",
              "      <th>StartupName</th>\n",
              "      <th>AmountInUSD</th>\n",
              "    </tr>\n",
              "  </thead>\n",
              "  <tbody>\n",
              "    <tr>\n",
              "      <th>0</th>\n",
              "      <td>ola</td>\n",
              "      <td>744500000</td>\n",
              "    </tr>\n",
              "    <tr>\n",
              "      <th>1</th>\n",
              "      <td>oyo rooms</td>\n",
              "      <td>250000000</td>\n",
              "    </tr>\n",
              "    <tr>\n",
              "      <th>2</th>\n",
              "      <td>cartrade</td>\n",
              "      <td>200000000</td>\n",
              "    </tr>\n",
              "    <tr>\n",
              "      <th>3</th>\n",
              "      <td>makemytrip</td>\n",
              "      <td>180000000</td>\n",
              "    </tr>\n",
              "    <tr>\n",
              "      <th>4</th>\n",
              "      <td>hike</td>\n",
              "      <td>175000000</td>\n",
              "    </tr>\n",
              "    <tr>\n",
              "      <th>5</th>\n",
              "      <td>swiggy</td>\n",
              "      <td>137000000</td>\n",
              "    </tr>\n",
              "    <tr>\n",
              "      <th>6</th>\n",
              "      <td>byju’s</td>\n",
              "      <td>125000000</td>\n",
              "    </tr>\n",
              "    <tr>\n",
              "      <th>7</th>\n",
              "      <td>oyo</td>\n",
              "      <td>100000000</td>\n",
              "    </tr>\n",
              "    <tr>\n",
              "      <th>8</th>\n",
              "      <td>mobikwik</td>\n",
              "      <td>90000000</td>\n",
              "    </tr>\n",
              "    <tr>\n",
              "      <th>9</th>\n",
              "      <td>bookmyshow</td>\n",
              "      <td>82000000</td>\n",
              "    </tr>\n",
              "  </tbody>\n",
              "</table>\n",
              "</div>"
            ],
            "text/plain": [
              "  StartupName  AmountInUSD\n",
              "0         ola    744500000\n",
              "1   oyo rooms    250000000\n",
              "2    cartrade    200000000\n",
              "3  makemytrip    180000000\n",
              "4        hike    175000000\n",
              "5      swiggy    137000000\n",
              "6      byju’s    125000000\n",
              "7         oyo    100000000\n",
              "8    mobikwik     90000000\n",
              "9  bookmyshow     82000000"
            ]
          },
          "metadata": {},
          "execution_count": 51
        }
      ]
    },
    {
      "cell_type": "markdown",
      "metadata": {
        "id": "hqUqFGuZiCly"
      },
      "source": [
        "**2. Technology**"
      ]
    },
    {
      "cell_type": "code",
      "metadata": {
        "id": "n_d_4NgTiOdd"
      },
      "source": [
        "tech=data[data['IndustryVertical']=='technology']"
      ],
      "execution_count": 52,
      "outputs": []
    },
    {
      "cell_type": "markdown",
      "metadata": {
        "id": "OuEk733LiTZu"
      },
      "source": [
        "**Top Technology based startups on the basis of funds acquired**"
      ]
    },
    {
      "cell_type": "code",
      "metadata": {
        "colab": {
          "base_uri": "https://localhost:8080/",
          "height": 357
        },
        "id": "sCTnPGrZibNf",
        "outputId": "7ba28520-6c9b-43a8-f443-9cd7365ef01c"
      },
      "source": [
        "tech.groupby('StartupName')['AmountInUSD'].sum().sort_values(ascending=False).astype(int).head(10).reset_index()"
      ],
      "execution_count": 53,
      "outputs": [
        {
          "output_type": "execute_result",
          "data": {
            "text/html": [
              "<div>\n",
              "<style scoped>\n",
              "    .dataframe tbody tr th:only-of-type {\n",
              "        vertical-align: middle;\n",
              "    }\n",
              "\n",
              "    .dataframe tbody tr th {\n",
              "        vertical-align: top;\n",
              "    }\n",
              "\n",
              "    .dataframe thead th {\n",
              "        text-align: right;\n",
              "    }\n",
              "</style>\n",
              "<table border=\"1\" class=\"dataframe\">\n",
              "  <thead>\n",
              "    <tr style=\"text-align: right;\">\n",
              "      <th></th>\n",
              "      <th>StartupName</th>\n",
              "      <th>AmountInUSD</th>\n",
              "    </tr>\n",
              "  </thead>\n",
              "  <tbody>\n",
              "    <tr>\n",
              "      <th>0</th>\n",
              "      <td>delhivery</td>\n",
              "      <td>100000000</td>\n",
              "    </tr>\n",
              "    <tr>\n",
              "      <th>1</th>\n",
              "      <td>fractal analytics</td>\n",
              "      <td>100000000</td>\n",
              "    </tr>\n",
              "    <tr>\n",
              "      <th>2</th>\n",
              "      <td>rivigo</td>\n",
              "      <td>75000000</td>\n",
              "    </tr>\n",
              "    <tr>\n",
              "      <th>3</th>\n",
              "      <td>markets and markets</td>\n",
              "      <td>56000000</td>\n",
              "    </tr>\n",
              "    <tr>\n",
              "      <th>4</th>\n",
              "      <td>druva</td>\n",
              "      <td>51000000</td>\n",
              "    </tr>\n",
              "    <tr>\n",
              "      <th>5</th>\n",
              "      <td>icertis</td>\n",
              "      <td>40000000</td>\n",
              "    </tr>\n",
              "    <tr>\n",
              "      <th>6</th>\n",
              "      <td>eps</td>\n",
              "      <td>35000000</td>\n",
              "    </tr>\n",
              "    <tr>\n",
              "      <th>7</th>\n",
              "      <td>amagi media labs</td>\n",
              "      <td>35000000</td>\n",
              "    </tr>\n",
              "    <tr>\n",
              "      <th>8</th>\n",
              "      <td>mswipe</td>\n",
              "      <td>31000000</td>\n",
              "    </tr>\n",
              "    <tr>\n",
              "      <th>9</th>\n",
              "      <td>qubole</td>\n",
              "      <td>30000000</td>\n",
              "    </tr>\n",
              "  </tbody>\n",
              "</table>\n",
              "</div>"
            ],
            "text/plain": [
              "           StartupName  AmountInUSD\n",
              "0            delhivery    100000000\n",
              "1    fractal analytics    100000000\n",
              "2               rivigo     75000000\n",
              "3  markets and markets     56000000\n",
              "4                druva     51000000\n",
              "5              icertis     40000000\n",
              "6                  eps     35000000\n",
              "7     amagi media labs     35000000\n",
              "8               mswipe     31000000\n",
              "9               qubole     30000000"
            ]
          },
          "metadata": {},
          "execution_count": 53
        }
      ]
    },
    {
      "cell_type": "markdown",
      "metadata": {
        "id": "1GhYtQ2migKg"
      },
      "source": [
        "**Delhivery, Fractal Analytics, Rivigo** are top Technology based startups"
      ]
    },
    {
      "cell_type": "markdown",
      "metadata": {
        "id": "4xOVea8bimxt"
      },
      "source": [
        "# **3. ECommerce**"
      ]
    },
    {
      "cell_type": "code",
      "metadata": {
        "id": "ATp0YHnmisUZ"
      },
      "source": [
        "commerce=data[data['IndustryVertical']=='ecommerce']"
      ],
      "execution_count": 54,
      "outputs": []
    },
    {
      "cell_type": "markdown",
      "metadata": {
        "id": "BZw0g9a6iwwN"
      },
      "source": [
        "**Top ECommerce based startups on the basis of funds acquired**"
      ]
    },
    {
      "cell_type": "code",
      "metadata": {
        "colab": {
          "base_uri": "https://localhost:8080/",
          "height": 357
        },
        "id": "1HRK25hVi0Di",
        "outputId": "91f6525f-7e47-4d64-cc96-30930608a2c6"
      },
      "source": [
        "commerce.groupby('StartupName')['AmountInUSD'].sum().sort_values(ascending=False).astype(int).head(10).reset_index()"
      ],
      "execution_count": 55,
      "outputs": [
        {
          "output_type": "execute_result",
          "data": {
            "text/html": [
              "<div>\n",
              "<style scoped>\n",
              "    .dataframe tbody tr th:only-of-type {\n",
              "        vertical-align: middle;\n",
              "    }\n",
              "\n",
              "    .dataframe tbody tr th {\n",
              "        vertical-align: top;\n",
              "    }\n",
              "\n",
              "    .dataframe thead th {\n",
              "        text-align: right;\n",
              "    }\n",
              "</style>\n",
              "<table border=\"1\" class=\"dataframe\">\n",
              "  <thead>\n",
              "    <tr style=\"text-align: right;\">\n",
              "      <th></th>\n",
              "      <th>StartupName</th>\n",
              "      <th>AmountInUSD</th>\n",
              "    </tr>\n",
              "  </thead>\n",
              "  <tbody>\n",
              "    <tr>\n",
              "      <th>0</th>\n",
              "      <td>paytm</td>\n",
              "      <td>1660000000</td>\n",
              "    </tr>\n",
              "    <tr>\n",
              "      <th>1</th>\n",
              "      <td>flipkart</td>\n",
              "      <td>1509700000</td>\n",
              "    </tr>\n",
              "    <tr>\n",
              "      <th>2</th>\n",
              "      <td>snapdeal</td>\n",
              "      <td>200000000</td>\n",
              "    </tr>\n",
              "    <tr>\n",
              "      <th>3</th>\n",
              "      <td>bigbasket</td>\n",
              "      <td>157000000</td>\n",
              "    </tr>\n",
              "    <tr>\n",
              "      <th>4</th>\n",
              "      <td>shopclues</td>\n",
              "      <td>107700000</td>\n",
              "    </tr>\n",
              "    <tr>\n",
              "      <th>5</th>\n",
              "      <td>lenskart</td>\n",
              "      <td>63500000</td>\n",
              "    </tr>\n",
              "    <tr>\n",
              "      <th>6</th>\n",
              "      <td>pepperfry</td>\n",
              "      <td>31300000</td>\n",
              "    </tr>\n",
              "    <tr>\n",
              "      <th>7</th>\n",
              "      <td>1mg</td>\n",
              "      <td>30000000</td>\n",
              "    </tr>\n",
              "    <tr>\n",
              "      <th>8</th>\n",
              "      <td>bluestone</td>\n",
              "      <td>30000000</td>\n",
              "    </tr>\n",
              "    <tr>\n",
              "      <th>9</th>\n",
              "      <td>voonik</td>\n",
              "      <td>29000000</td>\n",
              "    </tr>\n",
              "  </tbody>\n",
              "</table>\n",
              "</div>"
            ],
            "text/plain": [
              "  StartupName  AmountInUSD\n",
              "0       paytm   1660000000\n",
              "1    flipkart   1509700000\n",
              "2    snapdeal    200000000\n",
              "3   bigbasket    157000000\n",
              "4   shopclues    107700000\n",
              "5    lenskart     63500000\n",
              "6   pepperfry     31300000\n",
              "7         1mg     30000000\n",
              "8   bluestone     30000000\n",
              "9      voonik     29000000"
            ]
          },
          "metadata": {},
          "execution_count": 55
        }
      ]
    },
    {
      "cell_type": "markdown",
      "metadata": {
        "id": "1c8sjJS_i6K8"
      },
      "source": [
        "**Paytm, Flipkart, SnapDeal** are top ECommerce based startups with highest amount funded"
      ]
    },
    {
      "cell_type": "code",
      "metadata": {
        "colab": {
          "base_uri": "https://localhost:8080/",
          "height": 482
        },
        "id": "EBM-Dm0Ti_iF",
        "outputId": "93d346d4-2554-4f63-f7df-921f86cdfcf0"
      },
      "source": [
        "top_10_comm_sub=commerce['SubVertical'].value_counts().sort_values(ascending=False).head(10)\n",
        "top_10_comm_sub=ticks_display_cleaner(top_10_comm_sub)\n",
        "plt.figure(figsize=(30,10))\n",
        "plt.ylabel('Count',fontsize=19)\n",
        "plt.xticks(fontsize=14)\n",
        "plt.title('Top 10 Sub-Categories in ECommerce Industry',fontsize=24)\n",
        "sns.barplot(top_10_comm_sub.index,top_10_comm_sub.values)\n",
        "plt.savefig('Ecommerce.png',dpi=300)"
      ],
      "execution_count": 56,
      "outputs": [
        {
          "output_type": "stream",
          "name": "stderr",
          "text": [
            "/usr/local/lib/python3.7/dist-packages/seaborn/_decorators.py:43: FutureWarning: Pass the following variables as keyword args: x, y. From version 0.12, the only valid positional argument will be `data`, and passing other arguments without an explicit keyword will result in an error or misinterpretation.\n",
            "  FutureWarning\n"
          ]
        },
        {
          "output_type": "display_data",
          "data": {
            "image/png": "[encoded data removed]",
            "text/plain": [
              "<Figure size 2160x720 with 1 Axes>"
            ]
          },
          "metadata": {
            "needs_background": "light"
          }
        }
      ]
    },
    {
      "cell_type": "markdown",
      "metadata": {
        "id": "bz132DTajIWn"
      },
      "source": [
        "There are 6 startups based on Online Pharmacy sub-category, followed by 3 startups in **ECommerce Marketplace** Sub-Category."
      ]
    },
    {
      "cell_type": "markdown",
      "metadata": {
        "id": "Ri1Dspg4jOmU"
      },
      "source": [
        "# **Q4. Which period had the most number of startups funded.**"
      ]
    },
    {
      "cell_type": "code",
      "metadata": {
        "id": "301026X-jVW5"
      },
      "source": [
        "# Creating new columns, Month, Year, Quarter, QuarterYear\n",
        "# QuarterYear is the concatenation of year+quarter to show the 4 quarters of each year which will be further used\n",
        "# below in our analysis.\n",
        "date_year=data['Date'].dt\n",
        "\n",
        "data['Month']=date_year.month\n",
        "data['Year']=date_year.year\n",
        "\n",
        "data['Quarter']=''\n",
        "data['Year']=data['Year'].astype('object')\n",
        "\n",
        "data.loc[(data['Month']>=1) & (data['Month']<=3),'Quarter']=str(1)\n",
        "data.loc[(data['Month']>=4) & (data['Month']<=6),'Quarter']=str(2)\n",
        "data.loc[(data['Month']>=7) & (data['Month']<=9),'Quarter']=str(3)\n",
        "data.loc[(data['Month']>=10) & (data['Month']<=12),'Quarter']=str(4)\n",
        "\n",
        "data['QuarterYear']=data['Year'].astype(str)+\"-Q\"+data['Quarter'].astype(str)"
      ],
      "execution_count": 57,
      "outputs": []
    },
    {
      "cell_type": "code",
      "metadata": {
        "colab": {
          "base_uri": "https://localhost:8080/"
        },
        "id": "RI6iBW_YjZgE",
        "outputId": "59fd82a2-a83d-4a1e-912d-012bd2d1d859"
      },
      "source": [
        "data.groupby('QuarterYear')['StartupName'].count().sort_values(ascending=False)"
      ],
      "execution_count": 58,
      "outputs": [
        {
          "output_type": "execute_result",
          "data": {
            "text/plain": [
              "QuarterYear\n",
              "2015-Q3    275\n",
              "2016-Q2    265\n",
              "2016-Q1    251\n",
              "2016-Q3    239\n",
              "2016-Q4    238\n",
              "2015-Q4    237\n",
              "2015-Q2    215\n",
              "2015-Q1    209\n",
              "2017-Q1    166\n",
              "2017-Q2    151\n",
              "2017-Q3     74\n",
              "2017-Q4     52\n",
              "Name: StartupName, dtype: int64"
            ]
          },
          "metadata": {},
          "execution_count": 58
        }
      ]
    },
    {
      "cell_type": "code",
      "metadata": {
        "colab": {
          "base_uri": "https://localhost:8080/",
          "height": 630
        },
        "id": "_haiPNMYjdCs",
        "outputId": "0ae0369b-93bb-40a8-f049-56e60eff79cb"
      },
      "source": [
        "plt.figure(figsize=(15,10))\n",
        "plt.title('Quarterly Trend',fontsize=20)\n",
        "plt.ylabel('Count',fontsize=22)\n",
        "plt.xticks(fontsize=14)\n",
        "sns.countplot(x='QuarterYear',data=data)\n",
        "plt.savefig('QuarterlyTrend.png',dpi=300)"
      ],
      "execution_count": 59,
      "outputs": [
        {
          "output_type": "display_data",
          "data": {
            "image/png": "[encoded data removed]",
            "text/plain": [
              "<Figure size 1080x720 with 1 Axes>"
            ]
          },
          "metadata": {
            "needs_background": "light"
          }
        }
      ]
    },
    {
      "cell_type": "markdown",
      "metadata": {
        "id": "HEPD-rVRjlcZ"
      },
      "source": [
        "Now, we can see that 2015, and 2016 saw most number of startups being funded. highest being in Quarter 3 of 2015. Then it started declining in 2017 Q1 to 166 startups and 2017 Q4 down to only 52 startups being funded"
      ]
    },
    {
      "cell_type": "markdown",
      "metadata": {
        "id": "OJmRFJR_jsC9"
      },
      "source": [
        "# **Q5. which City has maximum startups?**"
      ]
    },
    {
      "cell_type": "code",
      "metadata": {
        "colab": {
          "base_uri": "https://localhost:8080/"
        },
        "id": "osfJbULzju1e",
        "outputId": "c6dd8269-1b27-46d3-fc05-33c628086cb4"
      },
      "source": [
        "cities=data[data['CityLocation']!='Not Specified']\n",
        "cities=cities['CityLocation'].value_counts().sort_values(ascending=False).head(10)\n",
        "cities"
      ],
      "execution_count": 60,
      "outputs": [
        {
          "output_type": "execute_result",
          "data": {
            "text/plain": [
              "Bangalore    634\n",
              "Mumbai       449\n",
              "New Delhi    385\n",
              "Gurgaon      241\n",
              "Pune          91\n",
              "Noida         79\n",
              "Hyderabad     77\n",
              "Chennai       67\n",
              "Ahmedabad     35\n",
              "Jaipur        25\n",
              "Name: CityLocation, dtype: int64"
            ]
          },
          "metadata": {},
          "execution_count": 60
        }
      ]
    },
    {
      "cell_type": "code",
      "metadata": {
        "colab": {
          "base_uri": "https://localhost:8080/",
          "height": 643
        },
        "id": "J3SJlJb7jxR3",
        "outputId": "54c456aa-170f-4d74-a668-8035d5adf157"
      },
      "source": [
        "plt.figure(figsize=(20,10))\n",
        "plt.title('Number of Startups in each City',fontsize=29)\n",
        "plt.ylabel('Cities',fontsize=25)\n",
        "plt.xlabel('Count',fontsize=25)\n",
        "sns.barplot(cities.values,cities.index,palette='hot')\n",
        "plt.show()"
      ],
      "execution_count": 61,
      "outputs": [
        {
          "output_type": "stream",
          "name": "stderr",
          "text": [
            "/usr/local/lib/python3.7/dist-packages/seaborn/_decorators.py:43: FutureWarning: Pass the following variables as keyword args: x, y. From version 0.12, the only valid positional argument will be `data`, and passing other arguments without an explicit keyword will result in an error or misinterpretation.\n",
            "  FutureWarning\n"
          ]
        },
        {
          "output_type": "display_data",
          "data": {
            "image/png": "[encoded data removed]",
            "text/plain": [
              "<Figure size 1440x720 with 1 Axes>"
            ]
          },
          "metadata": {
            "needs_background": "light"
          }
        }
      ]
    },
    {
      "cell_type": "markdown",
      "metadata": {
        "id": "ZCk-oUR5kAK6"
      },
      "source": [
        "As we see from the graph above, maximum number of startups are based in Banglore (26.72%), followed by Mumbai (18.9%), New Delhi (16.2%), and Gurgaon (10.16%)\n",
        "\n",
        "72% of the startups funded between January 2015 till December 2017 are based in the above mentioned four cities."
      ]
    },
    {
      "cell_type": "markdown",
      "metadata": {
        "id": "ZBTdEgumkDRm"
      },
      "source": [
        "# **Q6. Who are the Top Investors by number of startups funded.**"
      ]
    },
    {
      "cell_type": "code",
      "metadata": {
        "colab": {
          "base_uri": "https://localhost:8080/"
        },
        "id": "eefjN-A7kJJU",
        "outputId": "4262a6cb-280b-4b2b-e909-9c86011e6b7e"
      },
      "source": [
        "data['InvestorsName'].describe()"
      ],
      "execution_count": 62,
      "outputs": [
        {
          "output_type": "execute_result",
          "data": {
            "text/plain": [
              "count                      2372\n",
              "unique                     1884\n",
              "top       Undisclosed Investors\n",
              "freq                         68\n",
              "Name: InvestorsName, dtype: object"
            ]
          },
          "metadata": {},
          "execution_count": 62
        }
      ]
    },
    {
      "cell_type": "code",
      "metadata": {
        "colab": {
          "base_uri": "https://localhost:8080/",
          "height": 35
        },
        "id": "cA4JMmk8kJ5v",
        "outputId": "25cc986c-973c-47fd-bd4e-a1a87389e28e"
      },
      "source": [
        "data['InvestorsName'].values[0]"
      ],
      "execution_count": 63,
      "outputs": [
        {
          "output_type": "execute_result",
          "data": {
            "application/vnd.google.colaboratory.intrinsic+json": {
              "type": "string"
            },
            "text/plain": [
              "'SBI-FMO Fund, Bessemer Venture Partners, Catamaran Ventures'"
            ]
          },
          "metadata": {},
          "execution_count": 63
        }
      ]
    },
    {
      "cell_type": "markdown",
      "metadata": {
        "id": "v8pdVXfwkPVF"
      },
      "source": [
        "There are several spelling for undisclosed investors, so let's clean that up."
      ]
    },
    {
      "cell_type": "code",
      "metadata": {
        "id": "ibB1JVp8kUHW"
      },
      "source": [
        "def investors_cleaner(x):\n",
        "    b=str(x).lower()\n",
        "    if 'undisclosed' in b:\n",
        "        return 'Undisclosed Investor'\n",
        "    else:\n",
        "        return x"
      ],
      "execution_count": 64,
      "outputs": []
    },
    {
      "cell_type": "code",
      "metadata": {
        "id": "v6coLkuJkU1v"
      },
      "source": [
        "data['InvestorsName']=data['InvestorsName'].apply(investors_cleaner)"
      ],
      "execution_count": 65,
      "outputs": []
    },
    {
      "cell_type": "markdown",
      "metadata": {
        "id": "AmlkjlRjkbmO"
      },
      "source": [
        "We see that a startup can be funded by multiple investors separated by commas. So let's make a new column 'NumberOfInvestors' which counts the number of investors for a particular startup"
      ]
    },
    {
      "cell_type": "code",
      "metadata": {
        "id": "AsOI4aOLkfy-"
      },
      "source": [
        "def investors_counter(x):\n",
        "    l=x.split(',')\n",
        "    return len(l)"
      ],
      "execution_count": 66,
      "outputs": []
    },
    {
      "cell_type": "code",
      "metadata": {
        "id": "224m2m2qkgk3"
      },
      "source": [
        "data['NumberOfInvestors']=data['InvestorsName'].apply(investors_counter)"
      ],
      "execution_count": 67,
      "outputs": []
    },
    {
      "cell_type": "markdown",
      "metadata": {
        "id": "fDRUdzzYkoGO"
      },
      "source": [
        "To find out the Investor who has funded maximum number of companies, we need to devise a way because some companies have multiple investors and we need to search each row for occurence of each investors name and count it. We will use re.search() method for this task. Below is the devised algorithm to find out actual number of startups funded by each investor by analysing rows with multiple investor names\n",
        "\n",
        "**Note:** I do not take into account that startups have got multiple fundings at different point of times, i am just counting number of startups that were funded by each investor once, or more than once."
      ]
    },
    {
      "cell_type": "code",
      "metadata": {
        "id": "pjnVC0yckx9F"
      },
      "source": [
        "investors_companies_funded={}\n",
        "unique_name=data['InvestorsName'].unique()\n",
        "name=np.array(data['InvestorsName'].values)\n",
        "for i in range(len(unique_name)):\n",
        "    for j in range(len(name)):\n",
        "        if(re.search(unique_name[i],name[j])):\n",
        "            investors_companies_funded[unique_name[i]]=investors_companies_funded.get(unique_name[i],0)+1"
      ],
      "execution_count": 68,
      "outputs": []
    },
    {
      "cell_type": "code",
      "metadata": {
        "id": "ABxa7yxxkzON"
      },
      "source": [
        "lst_investors = pd.DataFrame({'Name':list(investors_companies_funded.keys()),'Number of Startups Funded':list(investors_companies_funded.values())}).sort_values('Number of Startups Funded',ascending=False)"
      ],
      "execution_count": 69,
      "outputs": []
    },
    {
      "cell_type": "code",
      "metadata": {
        "colab": {
          "base_uri": "https://localhost:8080/",
          "height": 357
        },
        "id": "AaLAYN92k33-",
        "outputId": "92f8a02d-1b0c-4ef7-f3e8-91c43cbe3fd2"
      },
      "source": [
        "lst_investors[lst_investors['Name']!='Undisclosed Investor'].head(10)"
      ],
      "execution_count": 70,
      "outputs": [
        {
          "output_type": "execute_result",
          "data": {
            "text/html": [
              "<div>\n",
              "<style scoped>\n",
              "    .dataframe tbody tr th:only-of-type {\n",
              "        vertical-align: middle;\n",
              "    }\n",
              "\n",
              "    .dataframe tbody tr th {\n",
              "        vertical-align: top;\n",
              "    }\n",
              "\n",
              "    .dataframe thead th {\n",
              "        text-align: right;\n",
              "    }\n",
              "</style>\n",
              "<table border=\"1\" class=\"dataframe\">\n",
              "  <thead>\n",
              "    <tr style=\"text-align: right;\">\n",
              "      <th></th>\n",
              "      <th>Name</th>\n",
              "      <th>Number of Startups Funded</th>\n",
              "    </tr>\n",
              "  </thead>\n",
              "  <tbody>\n",
              "    <tr>\n",
              "      <th>137</th>\n",
              "      <td>Sequoia Capital</td>\n",
              "      <td>74</td>\n",
              "    </tr>\n",
              "    <tr>\n",
              "      <th>117</th>\n",
              "      <td>Accel Partners</td>\n",
              "      <td>63</td>\n",
              "    </tr>\n",
              "    <tr>\n",
              "      <th>447</th>\n",
              "      <td>Kalaari Capital</td>\n",
              "      <td>51</td>\n",
              "    </tr>\n",
              "    <tr>\n",
              "      <th>159</th>\n",
              "      <td>Blume Ventures</td>\n",
              "      <td>47</td>\n",
              "    </tr>\n",
              "    <tr>\n",
              "      <th>460</th>\n",
              "      <td>SAIF Partners</td>\n",
              "      <td>45</td>\n",
              "    </tr>\n",
              "    <tr>\n",
              "      <th>1</th>\n",
              "      <td>Indian Angel Network</td>\n",
              "      <td>42</td>\n",
              "    </tr>\n",
              "    <tr>\n",
              "      <th>898</th>\n",
              "      <td>Tiger Global</td>\n",
              "      <td>41</td>\n",
              "    </tr>\n",
              "    <tr>\n",
              "      <th>1372</th>\n",
              "      <td>IDG Ventures</td>\n",
              "      <td>40</td>\n",
              "    </tr>\n",
              "    <tr>\n",
              "      <th>563</th>\n",
              "      <td>Ratan Tata</td>\n",
              "      <td>30</td>\n",
              "    </tr>\n",
              "    <tr>\n",
              "      <th>1596</th>\n",
              "      <td>Mohandas Pai</td>\n",
              "      <td>29</td>\n",
              "    </tr>\n",
              "  </tbody>\n",
              "</table>\n",
              "</div>"
            ],
            "text/plain": [
              "                      Name  Number of Startups Funded\n",
              "137        Sequoia Capital                         74\n",
              "117         Accel Partners                         63\n",
              "447        Kalaari Capital                         51\n",
              "159         Blume Ventures                         47\n",
              "460          SAIF Partners                         45\n",
              "1     Indian Angel Network                         42\n",
              "898           Tiger Global                         41\n",
              "1372          IDG Ventures                         40\n",
              "563             Ratan Tata                         30\n",
              "1596          Mohandas Pai                         29"
            ]
          },
          "metadata": {},
          "execution_count": 70
        }
      ]
    },
    {
      "cell_type": "markdown",
      "metadata": {
        "id": "TKuLTPYqk-5t"
      },
      "source": [
        "The below code allows us to find the startups funded by each investor by passing in investor name as parameter. (Note: Some startups have more than one investors)"
      ]
    },
    {
      "cell_type": "code",
      "metadata": {
        "id": "MdkwRmwylEcY"
      },
      "source": [
        "temp=investors_companies_funded\n",
        "del temp['Undisclosed Investor']\n",
        "index=list(temp.keys())\n",
        "values=list(temp.values())"
      ],
      "execution_count": 71,
      "outputs": []
    },
    {
      "cell_type": "code",
      "metadata": {
        "colab": {
          "base_uri": "https://localhost:8080/",
          "height": 605
        },
        "id": "W66YxL_QlFLE",
        "outputId": "a8bf4502-6d6f-4de5-ea97-05819120df5c"
      },
      "source": [
        "graph_data=pd.Series(values,index=index).sort_values(ascending=False).head(10)\n",
        "graph_data=ticks_display_cleaner(graph_data)\n",
        "plt.figure(figsize=(23,10))\n",
        "plt.xlabel('Investors',fontsize=19)\n",
        "plt.ylabel('Count',fontsize=19)\n",
        "plt.title('Count of number of Startups Funded by Investors',fontsize=25)\n",
        "plt.xticks(fontsize=14)\n",
        "sns.barplot(graph_data.index,graph_data.values,palette='hot')\n",
        "plt.savefig('Investors.png',dpi=300)"
      ],
      "execution_count": 72,
      "outputs": [
        {
          "output_type": "stream",
          "name": "stderr",
          "text": [
            "/usr/local/lib/python3.7/dist-packages/seaborn/_decorators.py:43: FutureWarning: Pass the following variables as keyword args: x, y. From version 0.12, the only valid positional argument will be `data`, and passing other arguments without an explicit keyword will result in an error or misinterpretation.\n",
            "  FutureWarning\n"
          ]
        },
        {
          "output_type": "display_data",
          "data": {
            "image/png": "[encoded data removed]",
            "text/plain": [
              "<Figure size 1656x720 with 1 Axes>"
            ]
          },
          "metadata": {
            "needs_background": "light"
          }
        }
      ]
    },
    {
      "cell_type": "code",
      "metadata": {
        "id": "Yruj2FSLlH8U"
      },
      "source": [
        "def startup_finder(investor):\n",
        "    rows=[]\n",
        "    for i,v in zip(data['InvestorsName'].index,data['InvestorsName'].values):\n",
        "        if re.search(investor,v):\n",
        "            rows.append(i)\n",
        "    return data.iloc[rows,:]"
      ],
      "execution_count": 73,
      "outputs": []
    },
    {
      "cell_type": "markdown",
      "metadata": {
        "id": "5zemcZFflPJg"
      },
      "source": [
        "# **Q7. Which are the most common Investment types?**"
      ]
    },
    {
      "cell_type": "code",
      "metadata": {
        "colab": {
          "base_uri": "https://localhost:8080/"
        },
        "id": "9cfBziF1lWSc",
        "outputId": "f7df314f-f040-4be0-ab37-93a53fa033c6"
      },
      "source": [
        "data['InvestmentType'].value_counts()"
      ],
      "execution_count": 74,
      "outputs": [
        {
          "output_type": "execute_result",
          "data": {
            "text/plain": [
              "Seed Funding      1272\n",
              "Private Equity    1066\n",
              "SeedFunding         30\n",
              "PrivateEquity        1\n",
              "Debt Funding         1\n",
              "Crowd Funding        1\n",
              "Crowd funding        1\n",
              "Name: InvestmentType, dtype: int64"
            ]
          },
          "metadata": {},
          "execution_count": 74
        }
      ]
    },
    {
      "cell_type": "markdown",
      "metadata": {
        "id": "TBvnIE6wlaqF"
      },
      "source": [
        "Joining duplicate values with different spellings."
      ]
    },
    {
      "cell_type": "code",
      "metadata": {
        "id": "9y-YDgrOleV1"
      },
      "source": [
        "data['InvestmentType'].replace('SeedFunding','Seed Funding',inplace=True)\n",
        "data['InvestmentType'].replace('PrivateEquity','Private Equity',inplace=True)"
      ],
      "execution_count": 75,
      "outputs": []
    },
    {
      "cell_type": "code",
      "metadata": {
        "colab": {
          "base_uri": "https://localhost:8080/"
        },
        "id": "05d-1a1-lgGg",
        "outputId": "2293a87c-60a3-4f13-b972-1b0011162c78"
      },
      "source": [
        "data['InvestmentType'].value_counts()"
      ],
      "execution_count": 76,
      "outputs": [
        {
          "output_type": "execute_result",
          "data": {
            "text/plain": [
              "Seed Funding      1302\n",
              "Private Equity    1067\n",
              "Debt Funding         1\n",
              "Crowd Funding        1\n",
              "Crowd funding        1\n",
              "Name: InvestmentType, dtype: int64"
            ]
          },
          "metadata": {},
          "execution_count": 76
        }
      ]
    },
    {
      "cell_type": "code",
      "metadata": {
        "colab": {
          "base_uri": "https://localhost:8080/",
          "height": 558
        },
        "id": "77fc4oqOli34",
        "outputId": "92c5374b-f38f-44f2-98d7-da1dd4afb656"
      },
      "source": [
        "graph_data=data['InvestmentType'].value_counts()\n",
        "plt.figure(figsize=(13,8))\n",
        "plt.ylabel('Count',fontsize=19)\n",
        "plt.title('Common Investment Types',fontsize=19)\n",
        "sns.barplot(graph_data.index,graph_data.values)\n",
        "plt.savefig('CommonInvestmentTypes.png',dpi=300)"
      ],
      "execution_count": 77,
      "outputs": [
        {
          "output_type": "stream",
          "name": "stderr",
          "text": [
            "/usr/local/lib/python3.7/dist-packages/seaborn/_decorators.py:43: FutureWarning: Pass the following variables as keyword args: x, y. From version 0.12, the only valid positional argument will be `data`, and passing other arguments without an explicit keyword will result in an error or misinterpretation.\n",
            "  FutureWarning\n"
          ]
        },
        {
          "output_type": "display_data",
          "data": {
            "image/png": "[encoded data removed]",
            "text/plain": [
              "<Figure size 936x576 with 1 Axes>"
            ]
          },
          "metadata": {
            "needs_background": "light"
          }
        }
      ]
    },
    {
      "cell_type": "markdown",
      "metadata": {
        "id": "Ihe4vM_vlr0W"
      },
      "source": [
        "# **Conclusion**\n",
        "So, this was all our analysis, we got to know about the industries favored by investors, common investment types, and many more interesting observations about the Indian Startup Ecosystem. We also got to know that the year 2015 and 2016 were the booming years for Indian startups, with the most number of startups funded, and gradually started declining in 2017. A factor that could contribute to this sharp decline would be the announcement of Demonetization by the Indian Government in November 2016."
      ]
    }
  ]
}